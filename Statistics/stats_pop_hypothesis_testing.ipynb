{
 "cells": [
  {
   "cell_type": "code",
   "execution_count": 1,
   "metadata": {},
   "outputs": [],
   "source": [
    "import numpy as np\n",
    "import scipy as sc\n",
    "import pandas as pd"
   ]
  },
  {
   "cell_type": "markdown",
   "metadata": {},
   "source": [
    "Source: [Stat Trek: AP Statistics | Hypothesis Tests](https://stattrek.com/hypothesis-test/difference-in-means?tutorial=AP)"
   ]
  },
  {
   "cell_type": "markdown",
   "metadata": {},
   "source": [
    "### Hypothesis Test: Difference Between Means"
   ]
  },
  {
   "cell_type": "markdown",
   "metadata": {},
   "source": [
    "Let there be two populations we would like to compare with mean $\\mu_1$ and $\\mu_2$. Then we an create null and alternate hypothesis in the following manner:<br><br>\n",
    "\n",
    "$\\displaystyle\n",
    "H_0: \\mu_1 - \\mu_2 = d \\\\[1em]\n",
    "H_a: \\mu_1 - \\mu_2 \\neq d \\qquad \\text{or} \\qquad \\mu_1 - \\mu_2 > d \\qquad \\text{or} \\qquad \\mu_1 - \\mu_2 < d\n",
    "$ \n",
    "\n",
    "To conduct **two-sample t-test** to determine whether the difference between means found in the sample is significanlty different from hypothesized difference between means, we need to calulate following statisitics.\n",
    "1. *Standard Error*<br><br>\n",
    "$\\displaystyle SE = \\sqrt{\\frac{s_1^2}{n_1} + \\frac{s_2^2}{n_2}}$\n",
    "<br><br>where $s_1$ and $s_2$ are the sample deviation of two population.\n",
    "\n",
    "2. *Degrees of freedom*<br><br>\n",
    "$\\displaystyle DF = \\left( \\frac{s_1^2}{n_1} + \\frac{s_2^2}{n_2} \\right) / \\left( \\frac{s_1^4}{n_1^2(n_1-1)} + \\frac{s_2^4}{n_2^2(n_2-1)} \\right)$<br><br>\n",
    "rounded to closest whole number. The above formula gives an accurate value, but a simpler way of apporximating DF is to take the smaller quantity out of $n_1 - 1$ and $n_2 - 1$.\n",
    "\n",
    "3. *Test Statistic*:<br><br>\n",
    "$\\displaystyle t = \\frac{(\\bar x_1 - \\bar x_2) - d}{SE}$"
   ]
  },
  {
   "cell_type": "markdown",
   "metadata": {},
   "source": [
    "#### Examples"
   ]
  },
  {
   "cell_type": "markdown",
   "metadata": {},
   "source": [
    "**Problem1**: Test scores of two classes were compared with following data:\n",
    "- Class A : 30 students | average test score 78 | standard deviation 10.\n",
    "- Class B : 25 students | average test score 85 | standard deviation 15.\n",
    "\n",
    "Test the hypothesis that both classes have similar scors with a level of significance 0.10.\n",
    "\n",
    "**Solution**:\n",
    "1. $H_0: \\mu_1 - \\mu_2 = 0 \\\\\n",
    "H_a: \\mu_1 - \\mu_2 \\neq 0$"
   ]
  },
  {
   "cell_type": "code",
   "execution_count": 2,
   "metadata": {},
   "outputs": [
    {
     "name": "stdout",
     "output_type": "stream",
     "text": [
      "Standard error: 3.5119 \n",
      "Degrees of freedom: 40.0 \n",
      "Test Statisitic: -1.9932 \n",
      "Critical Values: (-1.6839,1.6839) \n",
      "P-value: 0.0531\n",
      "Significance level: 0.1\n"
     ]
    }
   ],
   "source": [
    "n1, mean1, std1 = 30, 78, 10\n",
    "n2, mean2, std2 = 25, 85, 15\n",
    "alpha = 0.1\n",
    "d = 0\n",
    "\n",
    "# standard error\n",
    "se = (std1**2/n1 + std2**2/n2)**0.5\n",
    "# degrees of freedom\n",
    "deg_fm = np.round((std1**2/n1 + std2**2/n2)**2 / ((std1**2/n1)**2/(n1-1) + (std2**2/n2)**2/(n2-1)))\n",
    "# test statistic\n",
    "test_stats = (mean1 -mean2 - d)/se\n",
    "# critical values for two tailed test\n",
    "critical_vals = [sc.stats.t.ppf(alpha/2, deg_fm), sc.stats.t.ppf(1-alpha/2, deg_fm)]\n",
    "#p-value, cdf of (1 - P(X > abs(test statisitcs)) * 2\n",
    "pval = 2*(1-sc.stats.t.cdf(np.abs(test_stats), deg_fm))\n",
    "\n",
    "print(\n",
    "    f'Standard error: {se:.4f}',\n",
    "    f'\\nDegrees of freedom: {deg_fm}',\n",
    "    f'\\nTest Statisitic: {test_stats:.4f}',\n",
    "    f'\\nCritical Values: ({critical_vals[0]:.4f},{critical_vals[1]:.4f})',\n",
    "    f'\\nP-value: {pval:.4f}'\n",
    "    f'\\nSignificance level: {alpha}',\n",
    ")"
   ]
  },
  {
   "cell_type": "markdown",
   "metadata": {},
   "source": [
    "We can see test statisitic fall in rejection region ($<z_{-\\alpha/2}, >z_{\\alpha/2}$) and thus null hypothesis can be rejected and we can conclude that class A and class B ard different."
   ]
  },
  {
   "cell_type": "markdown",
   "metadata": {},
   "source": [
    "**Problem2** A battery making company has developed a new battery. THe engineer claims the new battery lasts 7 minutes longer than the old battery.<br>\n",
    "To test the claim 100 new batteries are tested against 100 old batteries. Consider the following results:\n",
    "- Battery old: $\\mu_2$ = 200 minutes | s = 40 minutes \n",
    "- Battery new: $\\mu_1$ = 190 minutes | s = 20 minutes.\n",
    "\n",
    "Test the engineer's claim that the new batteries run at least 7 minutes longer than the old. Use a 0.05 level of significance\n",
    "\n",
    "**Solution**: <br>\n",
    "$H_0 : \\mu_1 - \\mu_2 \\leq 7 \\\\\n",
    "H_a : \\mu_1 - \\mu_2 > 7$"
   ]
  },
  {
   "cell_type": "code",
   "execution_count": 3,
   "metadata": {},
   "outputs": [
    {
     "name": "stdout",
     "output_type": "stream",
     "text": [
      "Standard error: 4.4721 \n",
      "Degrees of freedom: 146.0 \n",
      "Test Statisitic: 0.6708 \n",
      "Critical Value: 1.6554 \n",
      "P-value: 0.2517\n",
      "Significance level: 0.05\n"
     ]
    }
   ],
   "source": [
    "n1, mean1, std1 = 100, 200, 40\n",
    "n2, mean2, std2 = 100, 190, 20\n",
    "alpha = 0.05\n",
    "d = 7\n",
    "\n",
    "# standard error\n",
    "se = (std1**2/n1 + std2**2/n2)**0.5\n",
    "# degrees of freedom\n",
    "deg_fm = np.round((std1**2/n1 + std2**2/n2)**2 / ((std1**2/n1)**2/(n1-1) + (std2**2/n2)**2/(n2-1)))\n",
    "# test statistic\n",
    "test_stats = (mean1 -mean2 - d)/se\n",
    "# critical values\n",
    "critical_vals = [sc.stats.t.ppf(1-alpha, deg_fm)]\n",
    "# p-value\n",
    "pval = 1-sc.stats.t.cdf(np.abs(test_stats), deg_fm)\n",
    "print(\n",
    "    f'Standard error: {se:.4f}',\n",
    "    f'\\nDegrees of freedom: {deg_fm}',\n",
    "    f'\\nTest Statisitic: {test_stats:.4f}',\n",
    "    f'\\nCritical Value: {critical_vals[0]:.4f}',\n",
    "    f'\\nP-value: {pval:.4f}'\n",
    "    f'\\nSignificance level: {alpha}',\n",
    ")"
   ]
  },
  {
   "cell_type": "markdown",
   "metadata": {},
   "source": [
    "Since test statisitc does not fall in rejection region, the null hypothesis cannot be rejected and the claim of engineer cannot be verified."
   ]
  },
  {
   "cell_type": "markdown",
   "metadata": {},
   "source": [
    "### Hypothesis Test: Difference Between Paired Means"
   ]
  },
  {
   "cell_type": "markdown",
   "metadata": {},
   "source": [
    "To conduct **matched-pairs-t-test** to determine whether the difference between sample means for paired data, we follow the steps:\n",
    "1. **Standard deviation**:<br><br>\n",
    "$s_d = \\sqrt{\\frac{\\sum (d_i-d)^2}{n-1}}$\n",
    "<br><br>where $d_i$ is the difference for pair i, $\\bar d$ is thje sample mean of the difference, and n is the number of paired values.\n",
    "\n",
    "2. **Standard Error**:<br><br>\n",
    "$SE = s_d \\sqrt{\\frac{1}{n} \\left[\\frac{N-n}{N-1} \\right]}$\n",
    "<br><br>where $s_d$ is the standard deviation of the sample difference, *N* is the number of matched pairs in the population and *n* is the number of matched pairs in the sample.When the population size is much larger (at least 20 times larger) than the sample size, the standard error can be approximated by: <br><br>\n",
    "$SE = \\frac{s_d}{\\sqrt{n}}$\n",
    "\n",
    "3. **Degrees of Freedom**: $DF = n-1$.\n",
    "\n",
    "4. **Test Statisitic**: <br><br>\n",
    "$t = \\frac{(\\bar x_1 - \\bar x_2) - D}{SE}= \\frac{\\bar d - D}{SE}$\n",
    "<br><br>where $\\bar x_1$ is the mean of sample 1, $\\bar x_2$ is the mean of sample 2, $\\bar d$ id the mean difference between paired values in the sample, D is the hypothesized difference between population means, and SE is the standard error."
   ]
  },
  {
   "cell_type": "markdown",
   "metadata": {},
   "source": [
    "#### Examples"
   ]
  },
  {
   "cell_type": "markdown",
   "metadata": {},
   "source": [
    "**Problem1**: Forty-four sixth graders were randomly selected from a school district. Then, they were divided into 22 matched pairs, each pair having equal IQ's. One member of each pair was randomly selected to receive special training. Then, all of the students were given an IQ test. Test results are summarized below."
   ]
  },
  {
   "cell_type": "code",
   "execution_count": 4,
   "metadata": {},
   "outputs": [
    {
     "data": {
      "text/html": [
       "<div>\n",
       "<style scoped>\n",
       "    .dataframe tbody tr th:only-of-type {\n",
       "        vertical-align: middle;\n",
       "    }\n",
       "\n",
       "    .dataframe tbody tr th {\n",
       "        vertical-align: top;\n",
       "    }\n",
       "\n",
       "    .dataframe thead th {\n",
       "        text-align: right;\n",
       "    }\n",
       "</style>\n",
       "<table border=\"1\" class=\"dataframe\">\n",
       "  <thead>\n",
       "    <tr style=\"text-align: right;\">\n",
       "      <th></th>\n",
       "      <th>Training</th>\n",
       "      <th>No training</th>\n",
       "      <th>Diff, d</th>\n",
       "      <th>(d-dmean)^2</th>\n",
       "    </tr>\n",
       "  </thead>\n",
       "  <tbody>\n",
       "    <tr>\n",
       "      <th>0</th>\n",
       "      <td>95</td>\n",
       "      <td>90</td>\n",
       "      <td>5</td>\n",
       "      <td>16.0</td>\n",
       "    </tr>\n",
       "    <tr>\n",
       "      <th>1</th>\n",
       "      <td>89</td>\n",
       "      <td>85</td>\n",
       "      <td>4</td>\n",
       "      <td>9.0</td>\n",
       "    </tr>\n",
       "    <tr>\n",
       "      <th>2</th>\n",
       "      <td>76</td>\n",
       "      <td>73</td>\n",
       "      <td>3</td>\n",
       "      <td>4.0</td>\n",
       "    </tr>\n",
       "    <tr>\n",
       "      <th>3</th>\n",
       "      <td>92</td>\n",
       "      <td>90</td>\n",
       "      <td>2</td>\n",
       "      <td>1.0</td>\n",
       "    </tr>\n",
       "    <tr>\n",
       "      <th>4</th>\n",
       "      <td>91</td>\n",
       "      <td>90</td>\n",
       "      <td>1</td>\n",
       "      <td>0.0</td>\n",
       "    </tr>\n",
       "    <tr>\n",
       "      <th>5</th>\n",
       "      <td>53</td>\n",
       "      <td>53</td>\n",
       "      <td>0</td>\n",
       "      <td>1.0</td>\n",
       "    </tr>\n",
       "    <tr>\n",
       "      <th>6</th>\n",
       "      <td>67</td>\n",
       "      <td>68</td>\n",
       "      <td>-1</td>\n",
       "      <td>4.0</td>\n",
       "    </tr>\n",
       "    <tr>\n",
       "      <th>7</th>\n",
       "      <td>88</td>\n",
       "      <td>90</td>\n",
       "      <td>-2</td>\n",
       "      <td>9.0</td>\n",
       "    </tr>\n",
       "    <tr>\n",
       "      <th>8</th>\n",
       "      <td>75</td>\n",
       "      <td>78</td>\n",
       "      <td>-3</td>\n",
       "      <td>16.0</td>\n",
       "    </tr>\n",
       "    <tr>\n",
       "      <th>9</th>\n",
       "      <td>85</td>\n",
       "      <td>89</td>\n",
       "      <td>-4</td>\n",
       "      <td>25.0</td>\n",
       "    </tr>\n",
       "    <tr>\n",
       "      <th>10</th>\n",
       "      <td>90</td>\n",
       "      <td>95</td>\n",
       "      <td>-5</td>\n",
       "      <td>36.0</td>\n",
       "    </tr>\n",
       "    <tr>\n",
       "      <th>11</th>\n",
       "      <td>85</td>\n",
       "      <td>83</td>\n",
       "      <td>2</td>\n",
       "      <td>1.0</td>\n",
       "    </tr>\n",
       "    <tr>\n",
       "      <th>12</th>\n",
       "      <td>87</td>\n",
       "      <td>83</td>\n",
       "      <td>4</td>\n",
       "      <td>9.0</td>\n",
       "    </tr>\n",
       "    <tr>\n",
       "      <th>13</th>\n",
       "      <td>85</td>\n",
       "      <td>83</td>\n",
       "      <td>2</td>\n",
       "      <td>1.0</td>\n",
       "    </tr>\n",
       "    <tr>\n",
       "      <th>14</th>\n",
       "      <td>85</td>\n",
       "      <td>82</td>\n",
       "      <td>3</td>\n",
       "      <td>4.0</td>\n",
       "    </tr>\n",
       "    <tr>\n",
       "      <th>15</th>\n",
       "      <td>68</td>\n",
       "      <td>65</td>\n",
       "      <td>3</td>\n",
       "      <td>4.0</td>\n",
       "    </tr>\n",
       "    <tr>\n",
       "      <th>16</th>\n",
       "      <td>81</td>\n",
       "      <td>79</td>\n",
       "      <td>2</td>\n",
       "      <td>1.0</td>\n",
       "    </tr>\n",
       "    <tr>\n",
       "      <th>17</th>\n",
       "      <td>84</td>\n",
       "      <td>83</td>\n",
       "      <td>1</td>\n",
       "      <td>0.0</td>\n",
       "    </tr>\n",
       "    <tr>\n",
       "      <th>18</th>\n",
       "      <td>71</td>\n",
       "      <td>60</td>\n",
       "      <td>11</td>\n",
       "      <td>100.0</td>\n",
       "    </tr>\n",
       "    <tr>\n",
       "      <th>19</th>\n",
       "      <td>46</td>\n",
       "      <td>47</td>\n",
       "      <td>-1</td>\n",
       "      <td>4.0</td>\n",
       "    </tr>\n",
       "    <tr>\n",
       "      <th>20</th>\n",
       "      <td>75</td>\n",
       "      <td>77</td>\n",
       "      <td>-2</td>\n",
       "      <td>9.0</td>\n",
       "    </tr>\n",
       "    <tr>\n",
       "      <th>21</th>\n",
       "      <td>80</td>\n",
       "      <td>83</td>\n",
       "      <td>-3</td>\n",
       "      <td>16.0</td>\n",
       "    </tr>\n",
       "  </tbody>\n",
       "</table>\n",
       "</div>"
      ],
      "text/plain": [
       "    Training  No training  Diff, d  (d-dmean)^2\n",
       "0         95           90        5         16.0\n",
       "1         89           85        4          9.0\n",
       "2         76           73        3          4.0\n",
       "3         92           90        2          1.0\n",
       "4         91           90        1          0.0\n",
       "5         53           53        0          1.0\n",
       "6         67           68       -1          4.0\n",
       "7         88           90       -2          9.0\n",
       "8         75           78       -3         16.0\n",
       "9         85           89       -4         25.0\n",
       "10        90           95       -5         36.0\n",
       "11        85           83        2          1.0\n",
       "12        87           83        4          9.0\n",
       "13        85           83        2          1.0\n",
       "14        85           82        3          4.0\n",
       "15        68           65        3          4.0\n",
       "16        81           79        2          1.0\n",
       "17        84           83        1          0.0\n",
       "18        71           60       11        100.0\n",
       "19        46           47       -1          4.0\n",
       "20        75           77       -2          9.0\n",
       "21        80           83       -3         16.0"
      ]
     },
     "execution_count": 4,
     "metadata": {},
     "output_type": "execute_result"
    }
   ],
   "source": [
    "df = pd.DataFrame({\n",
    "    'Training':   [95,89,76,92,91,53,67,88,75,85,90,85,87,85,85,68,81,84,71,46,75,80],\n",
    "    'No training':[90,85,73,90, 90, 53,68,90,78,89,95,83,83,83,82,65,79,83,60,47,77,83]\n",
    "})\n",
    "df['Diff, d'] = df['Training'] - df['No training']\n",
    "df['(d-dmean)^2'] = (df['Diff, d'] - df['Diff, d'].mean())**2\n",
    "df"
   ]
  },
  {
   "cell_type": "markdown",
   "metadata": {},
   "source": [
    "Do these results provide evidence that the special training helped or hurt student performance? Use an 0.05 level of significance. Assume that the mean differences are approximately normally distributed.\n",
    "\n",
    "**Solution**:<br>\n",
    "$H_0: \\mu_d = 0 \\\\\n",
    "H_a = \\mu_d \\neq 0$"
   ]
  },
  {
   "cell_type": "code",
   "execution_count": 5,
   "metadata": {},
   "outputs": [
    {
     "name": "stdout",
     "output_type": "stream",
     "text": [
      "Standard error: 0.7645 \n",
      "Degrees of freedom: 21 \n",
      "Test Statisitic: 1.3081 \n",
      "Critical Values: (-2.0796,2.0796) \n",
      "P-value: 0.2050 \n",
      "Significance level: 0.0500\n"
     ]
    }
   ],
   "source": [
    "n = len(df)                                         # sample size\n",
    "d = 0                                               # difference in mean\n",
    "alpha = 0.05                                        # significance level\n",
    "\n",
    "s = (df['(d-dmean)^2'].sum()/(n-1))**0.5            # standard deviation\n",
    "se = s/n**0.5                                       # standard error                      \n",
    "test_stats = (df['Diff, d'].mean() - d)/se          # test statisitic  \n",
    "\n",
    "critical_vals = [sc.stats.t.ppf(alpha/2, n-1), \n",
    "                 sc.stats.t.ppf(1-alpha/2, n-1)]    # critical values for two tailed test\n",
    "pval = 2*(1-sc.stats.t.cdf(test_stats, n-1))        # p-value\n",
    "\n",
    "print(\n",
    "    f'Standard error: {se:.4f}',\n",
    "    f'\\nDegrees of freedom: {n-1}',\n",
    "    f'\\nTest Statisitic: {test_stats:.4f}',\n",
    "    f'\\nCritical Values: ({critical_vals[0]:.4f},{critical_vals[1]:.4f})',\n",
    "    f'\\nP-value: {pval:.4f}',\n",
    "    f'\\nSignificance level: {alpha:.4f}',\n",
    ")"
   ]
  },
  {
   "cell_type": "markdown",
   "metadata": {},
   "source": [
    "Since Test statistic does not fall in rejection region $(<z_{-\\alpha/2}$ or >$z_{\\alpha/2})$, we cannot reject null hypothesis."
   ]
  },
  {
   "cell_type": "markdown",
   "metadata": {},
   "source": [
    "### Chi-Square Goodness of Fit Test"
   ]
  },
  {
   "cell_type": "markdown",
   "metadata": {},
   "source": [
    "**Chi-square goodness of fit test** is applied when you have one categorical variable from a single population. It is used to determine whether sample data are consistent with a hypothesized distribution. Steps invovled:\n",
    "1. State the Hypotheses: <br>\n",
    "$H_0:$ The data are consistent with a specified distribution. <br>\n",
    "$H_a:$ The data are not consistent with a specified distribution.\n",
    "\n",
    "2. State significance level.\n",
    "\n",
    "3. **Degrees of freedom**: The degrees of freedom (DF) is equal to the number of levels (k) of the categorical variable minus 1. <br>$DF = k - 1$ \n",
    "\n",
    "4. **Expected frequency counts**: The expected frequency counts at each level of the categorical variable are equal to the sample size times the hypothesized proportion from the null hypothesis<br>\n",
    "$E_i = np_i$\n",
    "\n",
    "5. **Test statistic**. The test statistic is a chi-square random variable ($\\chi^2$) defined by the following equation. <br><br>\n",
    "$\\chi^2 = \\sum [\\frac{(O_i - E_i)^2}{E_i}]$\n",
    "<br><br>where $O_i$ is the observed frequency count for the ith level of the categorical variable, and Ei is the expected frequency count for the ith level of the categorical variable.\n",
    "\n",
    "6. **P-value** The P-value is the probability of observing a sample statistic as extreme as the test statistic (assume to be right sided test)."
   ]
  },
  {
   "cell_type": "markdown",
   "metadata": {},
   "source": [
    "#### Example"
   ]
  },
  {
   "cell_type": "markdown",
   "metadata": {},
   "source": [
    "**Problem**: A lottery company claims that there is \n",
    "- 60% chance of winning low prize | 30% of medium prize and | 10% the high prize. \n",
    "- For a random sample of 100 samples: low prize is won 45 times | medium prize is won 50 times and | high prize is won 5 times.\n",
    "\n",
    "Is the company's claim consistent. Use a 0.05 level of significance.\n",
    "\n",
    "**Solution**:<br>\n",
    "Hypotheses:<br>\n",
    "- *Null hypothesis*: The proportion of low, mid and high prize is 60%, 30% and 10%.\n",
    "- *Alternative hypothesis*: At least one of the proportions in the null hypothesis is false."
   ]
  },
  {
   "cell_type": "code",
   "execution_count": 6,
   "metadata": {},
   "outputs": [
    {
     "name": "stdout",
     "output_type": "stream",
     "text": [
      "Standard error: 0.7645 \n",
      "Degrees of freedom: 99 \n",
      "Test Statisitic: 19.5833 \n",
      "Critical Value: 5.9915 \n",
      "P-value: 0.000056 \n",
      "Significance level: 0.05\n"
     ]
    }
   ],
   "source": [
    "n = 100                                              # sample size\n",
    "alpha = 0.05                                         # significance level\n",
    "k = 3                                                # possible categories\n",
    "deg_fm = k - 1                                       # degrees of freedom\n",
    "p = np.array([0.6, 0.3, 0.1])                        # proportions for each category\n",
    "E = n * p                                            # expected frequency counts\n",
    "O = np.array([45, 50, 5])                            # observed frequency count\n",
    "test_stats = np.sum((O-E)**2/E)                      # test statistic\n",
    "critical_vals = [sc.stats.chi2.ppf(1-alpha, deg_fm)] # critical values\n",
    "pval = 1-sc.stats.chi2.cdf(test_stats, deg_fm)       # p-value\n",
    "\n",
    "print(\n",
    "    f'Standard error: {se:.4f}',\n",
    "    f'\\nDegrees of freedom: {n-1}',\n",
    "    f'\\nTest Statisitic: {test_stats:.4f}',\n",
    "    f'\\nCritical Value: {critical_vals[0]:.4f}',\n",
    "    f'\\nP-value: {pval:.6f}',\n",
    "    f'\\nSignificance level: {alpha}',\n",
    ")"
   ]
  },
  {
   "cell_type": "markdown",
   "metadata": {},
   "source": [
    "Since Test statisitic does fall in rejection region 19.58 > 5.99, the null hypothesis is rejected and we can infer company's claim is not consistent."
   ]
  },
  {
   "cell_type": "markdown",
   "metadata": {},
   "source": [
    "### Chi-Square Test of Homogeneity"
   ]
  },
  {
   "cell_type": "markdown",
   "metadata": {},
   "source": [
    "- This test is applied to **single categorical variable from two or more different populations** \n",
    "- It is used to determine whether frequency counts are distributed identically across different populations.\n",
    "\n",
    "Steps:\n",
    "1. State the Hypotheses: Suppose that data were sampled from r populations, and assume that the categorical variable had c levels. At any specified level of the categorical variable, the null hypothesis states that each population has the same proportion of observations\n",
    "\n",
    "2. Choose significance level. \n",
    "\n",
    "3. **Degrees of freedom**: $DF = (r - 1)\\times(c - 1) $ <br>where r is the number of populations, and c is the number of levels for the categorical variable.\n",
    "\n",
    "4. **Expected frequency counts**: The expected frequency counts are computed separately for each population at each level of the categorical variable.<br><br>\n",
    "$E_{r,c} = \\frac{n_r n_c}{n}$\n",
    "<br><br>where $E_{r,c}$ is the expected frequency count for population *r* at level *c* of the categorical variable, $n_r$ is the total number of observations from population r, $n_c$ is the total number of observations at treatment level *c* and *n* is the total sample size.\n",
    "\n",
    "5. **Test Statistic** :<br><br>\n",
    "$\\chi^2 = \\sum \\left[\\frac{(O_{r,c}-E_{r,c})2}{E_{r,c}}\\right]$\n",
    "<br><br>where $O_{r,c}$ is the observed frequency count in population *r* for level *c* of the categorical variable."
   ]
  },
  {
   "cell_type": "markdown",
   "metadata": {},
   "source": [
    "#### Example"
   ]
  },
  {
   "cell_type": "markdown",
   "metadata": {},
   "source": [
    "**Problem**: A survey was conducted on movie choices. Three movie were provided: *Interstellar*, *Titanic*, *Pride and Prejudice*. The sample population consisted of 100 males and 200 females. Do the preference of males differ from females significantly. Use a 0.05 level of significance."
   ]
  },
  {
   "cell_type": "code",
   "execution_count": 7,
   "metadata": {},
   "outputs": [
    {
     "data": {
      "text/html": [
       "<div>\n",
       "<style scoped>\n",
       "    .dataframe tbody tr th:only-of-type {\n",
       "        vertical-align: middle;\n",
       "    }\n",
       "\n",
       "    .dataframe tbody tr th {\n",
       "        vertical-align: top;\n",
       "    }\n",
       "\n",
       "    .dataframe thead th {\n",
       "        text-align: right;\n",
       "    }\n",
       "</style>\n",
       "<table border=\"1\" class=\"dataframe\">\n",
       "  <thead>\n",
       "    <tr style=\"text-align: right;\">\n",
       "      <th></th>\n",
       "      <th>Interstellar</th>\n",
       "      <th>Titanic</th>\n",
       "      <th>Pride and Prejudice</th>\n",
       "      <th>Total</th>\n",
       "    </tr>\n",
       "    <tr>\n",
       "      <th>Gender</th>\n",
       "      <th></th>\n",
       "      <th></th>\n",
       "      <th></th>\n",
       "      <th></th>\n",
       "    </tr>\n",
       "  </thead>\n",
       "  <tbody>\n",
       "    <tr>\n",
       "      <th>Male</th>\n",
       "      <td>50</td>\n",
       "      <td>30</td>\n",
       "      <td>20</td>\n",
       "      <td>100</td>\n",
       "    </tr>\n",
       "    <tr>\n",
       "      <th>Female</th>\n",
       "      <td>50</td>\n",
       "      <td>80</td>\n",
       "      <td>70</td>\n",
       "      <td>200</td>\n",
       "    </tr>\n",
       "    <tr>\n",
       "      <th>Total</th>\n",
       "      <td>100</td>\n",
       "      <td>110</td>\n",
       "      <td>90</td>\n",
       "      <td>300</td>\n",
       "    </tr>\n",
       "  </tbody>\n",
       "</table>\n",
       "</div>"
      ],
      "text/plain": [
       "        Interstellar  Titanic  Pride and Prejudice  Total\n",
       "Gender                                                   \n",
       "Male              50       30                   20    100\n",
       "Female            50       80                   70    200\n",
       "Total            100      110                   90    300"
      ]
     },
     "execution_count": 7,
     "metadata": {},
     "output_type": "execute_result"
    }
   ],
   "source": [
    "df = pd.DataFrame({\n",
    "    'Gender':['Male', 'Female', 'Total'],\n",
    "    'Interstellar':[50, 50, 100],\n",
    "    'Titanic':[30, 80, 110],\n",
    "    'Pride and Prejudice': [20, 70, 90]\n",
    "})\n",
    "df.index = df.Gender\n",
    "df = df.drop(['Gender'], axis=1)\n",
    "df['Total'] = df['Interstellar'] + df['Titanic'] + df['Pride and Prejudice']\n",
    "df"
   ]
  },
  {
   "cell_type": "markdown",
   "metadata": {},
   "source": [
    "**Solution** <br>\n",
    "*Null Hypothesis*: Proportion of males = Proprotion of females who like the movie for all movies considered. <br>\n",
    "*Alternate Hypothesis*: At least for one movie the proportion of male and female liking it is not same."
   ]
  },
  {
   "cell_type": "code",
   "execution_count": 8,
   "metadata": {},
   "outputs": [
    {
     "name": "stdout",
     "output_type": "stream",
     "text": [
      "\n",
      "Degrees of freedom: 2\n",
      "Test Statisitic: 19.3182 \n",
      "Critical Value: 5.9915 \n",
      "P-value: 0.000064 \n",
      "Significance level: 0.05\n"
     ]
    }
   ],
   "source": [
    "r = 2                                                   # male and female\n",
    "c = 3                                                   # no of movies\n",
    "nr = np.array([100, 200])                               # total number of observations from population\n",
    "nc = np.array([100, 110, 90])                           # total number of observations at treatment level c\n",
    "O = np.array([[50,30,20], [50, 80, 70]])                # observed frequency count\n",
    "deg_fm = (r-1)*(c-1)                                    # degrees of freedom\n",
    "E = np.outer(nr, nc) / nr.sum()                         # expected frequency count\n",
    "test_stats = np.sum((O-E)**2/E)                         # test statisitic\n",
    "\n",
    "alpha = 0.05                                            # significance level\n",
    "critical_vals = [sc.stats.chi2.ppf(1-alpha, deg_fm)]    # critical values\n",
    "pval = 1 - sc.stats.chi2.cdf(test_stats, deg_fm)        # p-value\n",
    "\n",
    "print(\n",
    "    f'\\nDegrees of freedom: {deg_fm}'\n",
    "    f'\\nTest Statisitic: {test_stats:.4f}',\n",
    "    f'\\nCritical Value: {critical_vals[0]:.4f}',\n",
    "    f'\\nP-value: {pval:.6f}',\n",
    "    f'\\nSignificance level: {alpha}'\n",
    ")"
   ]
  },
  {
   "cell_type": "markdown",
   "metadata": {},
   "source": [
    "Since the test statisitic lie in rejection region (19.31>5.99), we can reject null hypothesis and claim that for atleast one movie the proportions that like it is different for males and females."
   ]
  },
  {
   "cell_type": "markdown",
   "metadata": {},
   "source": [
    "### Chi-Square Test of Independence"
   ]
  },
  {
   "cell_type": "markdown",
   "metadata": {},
   "source": [
    "**Chi-square test for independence** is applied when you have two categorical variables from a single population. It is used to determine whether there is a significant association between the two variables.\n",
    "\n",
    "Steps:\n",
    "1. *State the hypotheses*: <br><br>\n",
    "$H_0$: Variable A and Variable B are independent.<br>\n",
    "$H_a$: Variable A and Variable B are not independent.\n",
    "\n",
    "2. Set a *Significance level*.\n",
    "\n",
    "3. Let *r* be the number of levels for one catagorical variable. <br>\n",
    "*c* be the number of levels for the other categorical variable.\n",
    "\n",
    "4. *Degrees of freedom*: $DF = (r-1)\\times(c-1)$\n",
    "\n",
    "5. *Expected frequencies*:  Compute $r\\times c$ expected frequencies, according to the following formula. <br><br>\n",
    "$\\displaystyle E_{r,c} = \\frac{(n_r n_c)}{n}$\n",
    "<br><br>where $n_r$ is the total number of sample observations at level *r* of Variable A, $n_c$ is the total number of sample observations at level c of Variable B, and *n* is the total sample size.\n",
    "\n",
    "6. *Test Statisitc*: <br><br>\n",
    "$\\displaystyle \\chi^2 = \\sum \\left[ \\frac{(O_{r,c} - E_{r,c})^2}{E_{r,c}}\\right]$\n",
    "<br><br>where $O_{r,c}$ is the observed frequency count."
   ]
  },
  {
   "cell_type": "markdown",
   "metadata": {},
   "source": [
    "#### Example"
   ]
  },
  {
   "cell_type": "markdown",
   "metadata": {},
   "source": [
    "A public opinion poll surveyed a simple random sample of 1000 voters. Respondents were classified by gender (male or female) and by voting preference (Republican, Democrat, or Independent). Results are shown in the contingency table below."
   ]
  },
  {
   "cell_type": "code",
   "execution_count": 9,
   "metadata": {},
   "outputs": [
    {
     "data": {
      "text/html": [
       "<div>\n",
       "<style scoped>\n",
       "    .dataframe tbody tr th:only-of-type {\n",
       "        vertical-align: middle;\n",
       "    }\n",
       "\n",
       "    .dataframe tbody tr th {\n",
       "        vertical-align: top;\n",
       "    }\n",
       "\n",
       "    .dataframe thead th {\n",
       "        text-align: right;\n",
       "    }\n",
       "</style>\n",
       "<table border=\"1\" class=\"dataframe\">\n",
       "  <thead>\n",
       "    <tr style=\"text-align: right;\">\n",
       "      <th></th>\n",
       "      <th>Republican</th>\n",
       "      <th>Democaratic</th>\n",
       "      <th>Independent</th>\n",
       "      <th>Row Total</th>\n",
       "    </tr>\n",
       "  </thead>\n",
       "  <tbody>\n",
       "    <tr>\n",
       "      <th>Male</th>\n",
       "      <td>200</td>\n",
       "      <td>150</td>\n",
       "      <td>50</td>\n",
       "      <td>400</td>\n",
       "    </tr>\n",
       "    <tr>\n",
       "      <th>Female</th>\n",
       "      <td>250</td>\n",
       "      <td>300</td>\n",
       "      <td>50</td>\n",
       "      <td>600</td>\n",
       "    </tr>\n",
       "    <tr>\n",
       "      <th>Col Total</th>\n",
       "      <td>450</td>\n",
       "      <td>450</td>\n",
       "      <td>100</td>\n",
       "      <td>1000</td>\n",
       "    </tr>\n",
       "  </tbody>\n",
       "</table>\n",
       "</div>"
      ],
      "text/plain": [
       "           Republican  Democaratic  Independent  Row Total\n",
       "Male              200          150           50        400\n",
       "Female            250          300           50        600\n",
       "Col Total         450          450          100       1000"
      ]
     },
     "execution_count": 9,
     "metadata": {},
     "output_type": "execute_result"
    }
   ],
   "source": [
    "df = pd.DataFrame({\n",
    "    'Republican':[200,250,450],\n",
    "    'Democaratic':[150,300,450],\n",
    "    'Independent':[50,50,100],\n",
    "    'Row Total':[400,600,1000]\n",
    "})\n",
    "df.index = ['Male','Female','Col Total']\n",
    "df"
   ]
  },
  {
   "cell_type": "markdown",
   "metadata": {},
   "source": [
    "Is there a gender gap? Do the men's voting preferences differ significantly from the women's preferences? Use a 0.05 level of significance.\n",
    "\n",
    "*Solution*:<br>\n",
    "$H_0$:  Gender and voting preferences are independent.<br>\n",
    "$H_a$: Gender and voting preferences are not independent.\n"
   ]
  },
  {
   "cell_type": "code",
   "execution_count": 10,
   "metadata": {},
   "outputs": [
    {
     "name": "stdout",
     "output_type": "stream",
     "text": [
      "\n",
      "Degrees of freedom: 2 \n",
      "Test Statisitic: 16.2037 \n",
      "Critical Values: 5.9915 \n",
      "P-value: 0.000303 \n",
      "Significance level: 0.05\n"
     ]
    }
   ],
   "source": [
    "r = 2                                                   # number of levels for one catagorical variable\n",
    "c = 3                                                   # number of categories\n",
    "deg_fm = (r-1)*(c-1)                                    # degrees of freedom\n",
    "nr = np.array([400, 600])                               # sample observations of male and female\n",
    "nc = np.array([450, 450, 100])                          # spread of votes acrros partiles for males and females combined\n",
    "E = np.outer(nr,nc) / nr.sum()                          # epected frequency\n",
    "O = np.array([[200,150,50],[250,300,50]])               # observed frequency\n",
    "test_stats = np.sum((O-E)**2/E)                         # test statistic\n",
    "\n",
    "alpha = 0.05                                            # significance level\n",
    "critical_vals = [sc.stats.chi2.ppf(1-alpha, deg_fm)]    # critival value\n",
    "pval = 1-sc.stats.chi2.cdf(test_stats, deg_fm)          # p-value \n",
    "\n",
    "print(\n",
    "    f'\\nDegrees of freedom: {deg_fm}',\n",
    "    f'\\nTest Statisitic: {test_stats:.4f}',\n",
    "    f'\\nCritical Values: {critical_vals[0]:.4f}',\n",
    "    f'\\nP-value: {pval:.6f}',\n",
    "    f'\\nSignificance level: {alpha}'\n",
    ")"
   ]
  },
  {
   "cell_type": "markdown",
   "metadata": {},
   "source": [
    "Since Test statistic fall in rejection region (16.2>5.99), the null hypothesis is rejected and we conclude that there is a relationship between gender and voting preference."
   ]
  },
  {
   "cell_type": "markdown",
   "metadata": {},
   "source": [
    "### Hypothesis Test for Regression Slope"
   ]
  },
  {
   "cell_type": "markdown",
   "metadata": {},
   "source": [
    "In this section we learn how to conduct a hypothesis test to determine whether there is a significant linear relationship between an independent variable X and a dependent variable Y.\n",
    "\n",
    "The test focuses on the slope of the regression line\n",
    "\n",
    "$Y = Β_0 + Β_1X$\n",
    "\n",
    "where $Β_0$ is a constant, $Β_1$ is the slope (also called the regression coefficient), $X$ is the value of the independent variable, and $Y$ is the value of the dependent variable.\n",
    "\n",
    "If we find that the slope of the regression line is significantly different from zero, we will conclude that there is a significant relationship between the independent and dependent variables.\n",
    "\n",
    "Steps:\n",
    "1. $H_0: B_1 = 0 \\\\ H_a: B_1 \\neq 0$\n",
    "\n",
    "2. Choose Significance Level.\n",
    "\n",
    "3. *Standard Error*: <br><br>\n",
    "$\\displaystyle SE =  \\sqrt{ \\frac{1}{(n-2)} \\sum_{i=1}^n \\left(  \\frac{y_i-\\hat y}{x_i - \\bar x} \\right)^2}$\n",
    "<br><br>where $y_i$ is the estimate value dependent on $x_i$ and $\\bar x$ is the mean of the independent variable and $n$ is the number of observations.\n",
    "\n",
    "4. *Degrees of freedom*: $DF = n-2$\n",
    "\n",
    "5. *Test statisitic*: <br><br>\n",
    " $t = \\frac{b_1}{SE}$\n",
    " <br><br> where $b_1$ is the slope of the sample regression line.\n",
    "\n",
    "6. Test statistic is compared to critical value obtained from *t-distribution*."
   ]
  },
  {
   "cell_type": "markdown",
   "metadata": {},
   "source": [
    "#### Example"
   ]
  },
  {
   "cell_type": "markdown",
   "metadata": {},
   "source": [
    "**Problem**: The local utility company surveys 101 randomly selected customers. For each survey participant, the company collects the following: annual electric bill (in dollars) and home size (in square feet). Output from a regression analysis appears below."
   ]
  },
  {
   "cell_type": "code",
   "execution_count": 11,
   "metadata": {},
   "outputs": [
    {
     "data": {
      "text/html": [
       "<div>\n",
       "<style scoped>\n",
       "    .dataframe tbody tr th:only-of-type {\n",
       "        vertical-align: middle;\n",
       "    }\n",
       "\n",
       "    .dataframe tbody tr th {\n",
       "        vertical-align: top;\n",
       "    }\n",
       "\n",
       "    .dataframe thead th {\n",
       "        text-align: right;\n",
       "    }\n",
       "</style>\n",
       "<table border=\"1\" class=\"dataframe\">\n",
       "  <thead>\n",
       "    <tr style=\"text-align: right;\">\n",
       "      <th></th>\n",
       "      <th>Predictor</th>\n",
       "      <th>Coef</th>\n",
       "      <th>SE Coef</th>\n",
       "      <th>T</th>\n",
       "      <th>P</th>\n",
       "    </tr>\n",
       "  </thead>\n",
       "  <tbody>\n",
       "    <tr>\n",
       "      <th>0</th>\n",
       "      <td>constant</td>\n",
       "      <td>15.00</td>\n",
       "      <td>3.00</td>\n",
       "      <td>5.00</td>\n",
       "      <td>0.00</td>\n",
       "    </tr>\n",
       "    <tr>\n",
       "      <th>1</th>\n",
       "      <td>home size</td>\n",
       "      <td>0.55</td>\n",
       "      <td>0.24</td>\n",
       "      <td>2.29</td>\n",
       "      <td>0.01</td>\n",
       "    </tr>\n",
       "  </tbody>\n",
       "</table>\n",
       "</div>"
      ],
      "text/plain": [
       "   Predictor   Coef  SE Coef     T     P\n",
       "0   constant  15.00     3.00  5.00  0.00\n",
       "1  home size   0.55     0.24  2.29  0.01"
      ]
     },
     "execution_count": 11,
     "metadata": {},
     "output_type": "execute_result"
    }
   ],
   "source": [
    "df = pd.DataFrame({\n",
    "    'Predictor':['constant', 'home size'],\n",
    "    'Coef':[15, 0.55],\n",
    "    'SE Coef': [3, 0.24],\n",
    "    'T':[5.0, 2.29],\n",
    "    'P':[0, 0.01]\n",
    "})\n",
    "df"
   ]
  },
  {
   "cell_type": "markdown",
   "metadata": {},
   "source": [
    "Is there a significant linear relationship between annual bill and home size? Use a 0.05 level of significance.\n",
    "\n",
    "**Solution**: <br>\n",
    "$H_0$: The slope of the regression line is equal to zero.<br>\n",
    "$H_a$: The slope of the regression line is not equal to zero. \n",
    "\n",
    "Note: We consider a two-tailed test in this example."
   ]
  },
  {
   "cell_type": "code",
   "execution_count": 12,
   "metadata": {},
   "outputs": [
    {
     "name": "stdout",
     "output_type": "stream",
     "text": [
      "\n",
      "Degrees of freedom: 99 \n",
      "Test Statisitic: 2.2917 \n",
      "Critical Values: (-1.9842,1.9842) \n",
      "P-value: 0.024043 \n",
      "Significance level: 0.05\n"
     ]
    }
   ],
   "source": [
    "b1 = 0.55                                               # slope\n",
    "se = 0.24                                               # standard error, given\n",
    "n = 101                                                 # number of samples\n",
    "deg_fm = n-2                                            # degree of freedom\n",
    "test_stats = b1/se                                      # test statisitc\n",
    "alpha = 0.05                                            # significance level\n",
    "critical_vals = [sc.stats.t.ppf(alpha/2, deg_fm), \n",
    "                 sc.stats.t.ppf(1-alpha/2, deg_fm)]     # critical values\n",
    "pval = 2*(1-sc.stats.t.cdf(np.abs(test_stats), deg_fm)) # p-value\n",
    "\n",
    "print(\n",
    "    f'\\nDegrees of freedom: {deg_fm}',\n",
    "    f'\\nTest Statisitic: {test_stats:.4f}',\n",
    "    f'\\nCritical Values: ({critical_vals[0]:.4f},{critical_vals[1]:.4f})',\n",
    "    f'\\nP-value: {pval:.6f}',\n",
    "    f'\\nSignificance level: {alpha}',\n",
    "    \n",
    ")"
   ]
  },
  {
   "cell_type": "markdown",
   "metadata": {},
   "source": [
    "Since test statistic fall in rejection region (2.29 > 1.98), we can reject null hypothesis and claim that the slope of regression line is not zero, or there is a relationship between annual bill and size of home."
   ]
  }
 ],
 "metadata": {
  "kernelspec": {
   "display_name": "dl",
   "language": "python",
   "name": "python3"
  },
  "language_info": {
   "codemirror_mode": {
    "name": "ipython",
    "version": 3
   },
   "file_extension": ".py",
   "mimetype": "text/x-python",
   "name": "python",
   "nbconvert_exporter": "python",
   "pygments_lexer": "ipython3",
   "version": "3.12.7"
  }
 },
 "nbformat": 4,
 "nbformat_minor": 2
}
