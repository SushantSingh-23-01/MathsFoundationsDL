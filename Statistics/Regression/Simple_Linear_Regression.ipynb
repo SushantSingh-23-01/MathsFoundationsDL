{
 "cells": [
  {
   "cell_type": "code",
   "execution_count": 1,
   "metadata": {},
   "outputs": [],
   "source": [
    "import numpy as np\n",
    "import scipy as sc\n",
    "import matplotlib.pyplot as plt\n",
    "import pandas as pd\n",
    "plt.style.use('rose-pine-moon')\n",
    "%matplotlib inline"
   ]
  },
  {
   "cell_type": "code",
   "execution_count": 2,
   "metadata": {},
   "outputs": [],
   "source": [
    "cpal = [ '#9BF6FF', '#CAFFBF', '#FFD6A5', '#FFADAD', '#FFDBFA', '#B3B3A8']"
   ]
  },
  {
   "cell_type": "markdown",
   "metadata": {},
   "source": [
    "## 1. Simple Linear Regression"
   ]
  },
  {
   "cell_type": "markdown",
   "metadata": {},
   "source": [
    "Resource: [PennState | STAT 501 | Lesson 1: Simple Linear Regression](https://online.stat.psu.edu/stat501/lesson/1)"
   ]
  },
  {
   "cell_type": "markdown",
   "metadata": {},
   "source": [
    "### 1.1. Best fitting line"
   ]
  },
  {
   "cell_type": "markdown",
   "metadata": {},
   "source": [
    "Let,\n",
    "- $x_i$: be observed independent variable value.\n",
    "- $y_i$: be observed dependent variable value.\n",
    "- $\\hat{y_i}$ be predicted dependent variable value.\n",
    "\n",
    "Then,\n",
    "$$\\hat{y_i} = b_0 + b_1 x_i \\\\[1em]\n",
    "y_i = b_0 + b_1 x_i + e_i$$\n",
    "\n",
    "where,\n",
    "- $b_0$ is the intercpet of best fit line.\n",
    "- $b_1$ is the slope of best fit line.\n",
    "- $e_i = y_i - \\hat{y_i}$ are the errors or the resiudals.\n",
    "\n",
    "There are multiple ways of finding the best fit line. In this chapter we use calculus to find the critical points and maxmimum values."
   ]
  },
  {
   "cell_type": "markdown",
   "metadata": {},
   "source": [
    "#### 1.1.1. Derivation"
   ]
  },
  {
   "cell_type": "markdown",
   "metadata": {},
   "source": [
    "Taking Derivative w.r.t. $b_0$<br><br>\n",
    "$ \\displaystyle\n",
    "Q = \\sum_{i=1}^n (y_i - (b_0 + b_1 x_i))^2 \\\\[5pt]\n",
    "\\frac{\\partial Q}{\\partial b_0} = -2 \\sum_{i=1}^n (y_i-(b_0 + b_1 x_i))\n",
    "$\n",
    "<br><br>Finding the critical point.<br><br>\n",
    "$\\displaystyle\n",
    "\\Rightarrow -\\sum_{i=1}^n y_i + b_0\\sum_{i=1}^n 1  + b_1 \\sum_{i=1}^n (x_i) = 0 \\\\[5pt]\n",
    "\\Rightarrow nb_0 = \\sum_{i=1}^n y_i - + b_1 \\sum_{i=1}^n (x_i) \\\\[5pt]\n",
    "\\Rightarrow b_0 = \\frac{\\sum_{i=1}^n y_i}{n} - + \\frac{b_1 \\sum_{i=1}^n (x_i)}{n} \\\\[5pt]\n",
    "\\Rightarrow b_0 = \\bar y - b_1 \\bar x\n",
    "$\n",
    "<br><br>Let us substitute the value of $b_0$ in equation of *Q*. And then taking derivative w.r.t. to $b_1$:<br><br>\n",
    "$ \\displaystyle\n",
    "Q = \\sum_{i=1}^n (y_i - (\\bar y - b_1 \\bar x + b_1 x_i ))^2 \\\\[5pt]\n",
    "Q = \\sum_{i=1}^n (y_i - (\\bar y + b_1 (x_i - \\bar x)))^2 \\\\[5pt]\n",
    "\\frac{\\partial Q}{\\partial b_1} = 2 \\sum_{i=1}^n (y_i-\\bar y - b_1( x_i - \\bar x))\\cdot -(x_i - \\bar x)\n",
    "$\n",
    "<br><br>Finding the critical point.<br><br>\n",
    "$ \\displaystyle\n",
    "\\Rightarrow  -\\sum_{i=1}^n (y_i-\\bar y)(x_i - \\bar x) + b_1\\sum_{i=1}^n ( x_i - \\bar x)^2 = 0 \\\\[5pt]\n",
    "\\Rightarrow  b_1 = \\frac{\\sum_{i=1}^n (y_i-\\bar y)(x_i - \\bar x)}{\\sum_{i=1}^n ( x_i - \\bar x)^2}\n",
    "$\n",
    "<br><br>Also, $\\frac{\\partial Q^2}{\\partial^2 b_0} = \\frac{\\partial Q^2}{\\partial^2 b_1} = 2$. So the above intercept and slope correspond to the line with least square error.\n",
    "Note that the sign of slope dependent only on the numerator."
   ]
  },
  {
   "cell_type": "markdown",
   "metadata": {},
   "source": [
    "### 1.2. Residuals are Normally Distributed"
   ]
  },
  {
   "cell_type": "markdown",
   "metadata": {},
   "source": [
    "The following synthetic data is for demonstration purposes and may not be exact representation of real world data."
   ]
  },
  {
   "cell_type": "code",
   "execution_count": 3,
   "metadata": {},
   "outputs": [],
   "source": [
    "x = np.arange(1, 11)\n",
    "y = np.empty((10,5))\n",
    "for i in x:\n",
    "    y[i-1] = np.random.normal(i, 1, (5,))\n",
    "    \n",
    "x = np.repeat(x, 5)\n",
    "y = y.reshape(-1)"
   ]
  },
  {
   "cell_type": "code",
   "execution_count": 4,
   "metadata": {},
   "outputs": [],
   "source": [
    "def get_best_fit_line(x, y):\n",
    "    x_mean = np.mean(x)\n",
    "    y_mean = np.mean(y)\n",
    "    r_x = (x - x_mean)\n",
    "    r_y = (y - y_mean)\n",
    "    b1 = np.sum(r_x * r_y)/ np.sum(r_x**2)\n",
    "    b0 = y_mean - x_mean * b1\n",
    "    return (b0,b1)\n",
    "b = get_best_fit_line(x, y)"
   ]
  },
  {
   "cell_type": "code",
   "execution_count": 5,
   "metadata": {},
   "outputs": [
    {
     "data": {
      "image/png": "[encoded data removed]",
      "text/plain": [
       "<Figure size 500x300 with 1 Axes>"
      ]
     },
     "metadata": {},
     "output_type": "display_data"
    }
   ],
   "source": [
    "fig = plt.figure(figsize=(5,3))\n",
    "ax = fig.add_subplot(1,1,1)\n",
    "\n",
    "# main plot\n",
    "ax.scatter(x, y, s=5, color=cpal[0])\n",
    "ax.plot(x, b[0] + b[1]*x, color=cpal[1])\n",
    "\n",
    "# annotations\n",
    "ax.annotate(text=r'$\\mu_Y = E(Y) = \\beta_0 + \\beta_1 x$', xy=(5.5, b[0] + b[1]*5.5), xytext=(2, 8), color=cpal[2],arrowprops=dict(color=cpal[2], shrink=0.1, width=0.5, headwidth=3, headlength=5))\n",
    "ax.annotate(text=r'$y_i = \\beta_0 + \\beta_1 x + \\epsilon_i$', xy=(x[35], b[0] + b[1]*x[35]), xytext=(8, 4), color=cpal[3],arrowprops=dict(color=cpal[3], shrink=0.1, width=0.5, headwidth=3, headlength=5))\n",
    "\n",
    "# figure labels\n",
    "ax.set_xlabel('High school GPA')\n",
    "ax.set_ylabel('College Entrance test score')\n",
    "ax.set_title('Best Fit Line');"
   ]
  },
  {
   "cell_type": "markdown",
   "metadata": {},
   "source": [
    "Consider the example of gpa of high school students and there score of college entrance test.\n",
    "- 50 Students with High school GPAs ranging between 0 and 10 (only integers for simplicity) are selected, with 5 students for each GPA score.\n",
    "\n",
    "- There College entrance test scores are measured.\n",
    "\n",
    "After plotting, following observations can be made.\n",
    "- The college entrance test scores seems to be normally distributed corresponding to each high school GPA score.\n",
    "\n",
    "- If we had lots of data (like more than 100 students for each high school gpa) we would have best fit line passing through the mean of college test scores for each subpopulations.\n",
    "\n",
    "- Therefore, it is reasonable to assume that the errors for each subpopulation are normally distributed.\n",
    "\n",
    "The predicted value for population is represented as:\n",
    "$$\\mu_y = E(Y) = \\beta_0 + \\beta_1 x_i$$\n",
    "and the actual observation is represented as:\n",
    "$$y_i =\\beta_0 + \\beta_1 x_i + \\epsilon_i$$\n"
   ]
  },
  {
   "cell_type": "markdown",
   "metadata": {},
   "source": [
    "### 1.3. Assumptions of Linear Regression Model\n"
   ]
  },
  {
   "cell_type": "markdown",
   "metadata": {},
   "source": [
    "1. **Linear Function**: The mean of the response, $E(Y_i)$, at each value of the predictor, $x_i$, is a Linear function of the $x_i$.\n",
    "\n",
    "2. **Independent**: The errors, $\\epsilon_i$, are Independent.\n",
    "\n",
    "3. **Normally Distributed**: The errors, $\\epsilon_i$, at each value of the predictor, $x_i$, are normally distributed.\n",
    "\n",
    "4. **Equal variances**: The errors, $\\epsilon_i$, at each value of the predictor, $x_i$, have rqual variances."
   ]
  },
  {
   "cell_type": "markdown",
   "metadata": {},
   "source": [
    "### 1.4. Common Error Variance"
   ]
  },
  {
   "cell_type": "markdown",
   "metadata": {},
   "source": [
    "- As seen in the previous example of High shool GPA vs college tests GPA, the variance was kept equal to one for each subpopulation.\n",
    "\n",
    "- Generally, in most cases this variance is preferred to be as low as possible.\n",
    "\n",
    "- Sample Variance:<br><br>\n",
    "$\\displaystyle s^2 = \\frac{\\sum_{i=1}^n (y_i - \\bar{y})^2}{n-1}$\n",
    "<br><br>The sample variance estimates $\\sigma^2$, the variance of one population. \n",
    "\n",
    "- Since we do not the population mean $\\mu$ but we estimate with $\\bar{y}$. Doing so cost us 1 degree of freedom and therefore the (n-1) \n",
    "\n",
    "- Mean square error:<br><br>\n",
    "$\\displaystyle MSE = \\frac{\\sum_{i=1}^n (y_i - \\bar{y})^2}{n-2}$\n",
    "<br><br>The mean square error estimates $\\sigma^2$, the common variance of the many subpopulations. \n",
    "\n",
    "- Since we estimate population intercept $\\beta_0$ and slope $\\beta_1$, we loose two degrees of freedom and therefore (n - 2)."
   ]
  },
  {
   "cell_type": "markdown",
   "metadata": {},
   "source": [
    "### 1.5. Sum of Squares"
   ]
  },
  {
   "cell_type": "markdown",
   "metadata": {},
   "source": [
    "Total sum of squares (SST) can be represented as sum of *regression sum of squares* (SSR) and *error sum of squares* (SSE).\n",
    "$$SSR = \\sum_{i=1}^n (\\hat{y_i} - \\bar{y})^2 \\\\[1em]\n",
    "SSE = \\sum_{i=1}^n (y_i - \\hat{y_i})^2 \\\\[1em]\n",
    "SST = \\sum_{i=1}^n (y_i - \\bar{y})^2$$"
   ]
  },
  {
   "cell_type": "markdown",
   "metadata": {},
   "source": [
    "#### 5.1. R-square"
   ]
  },
  {
   "cell_type": "markdown",
   "metadata": {},
   "source": [
    "The \"coefficient of determination\" or \"R-squared value\" is equal to:\n",
    "$$R^2= \\frac{SSR}{SSR + SSE}$$\n",
    "The properties of $R^2$ are:\n",
    "1. It lies between 0 and 1.\n",
    "2. $R^2=1$ means data fits regression line perfectly.\n",
    "3. $R^2=0$ means regression line in perfectly horizontal. Also *x* does not account for any variation in *y*."
   ]
  },
  {
   "cell_type": "markdown",
   "metadata": {},
   "source": [
    "### 1.6. Pearson Correlation Coefficent "
   ]
  },
  {
   "cell_type": "markdown",
   "metadata": {},
   "source": [
    "The correlation coefficient, *r*, is directly related to the coefficient of determination $R^2$:\n",
    "$$r = \\pm\\sqrt{R^2}$$\n",
    "Properties:\n",
    "- The sign depenend on the sign of slope $b_1$\n",
    "- Furthermore *r* ranges from -1 to 1.\n",
    "- Also *r* is unitless.\n",
    "\n",
    "Mathematical Formula of Correlation coefficent:\n",
    "$$r = \\frac{\\sum_{i=1}^n (x_i - \\bar{x}) (y_i - \\bar{y})}{\\sqrt{\\sum_{i=1}^n(x_i - \\bar{x})^2 (y_i - \\bar{y})^2}} \\\\[1em]\n",
    "r = \\sqrt{\\frac{\\sum_{i=1}^n (x_i - \\bar{x})^2} {\\sum_{i=1}^n(y_i - \\bar{y})^2}} \\times b_1\n",
    "$$\n",
    "\n",
    "Intrepretation:\n",
    "- If *r* = -1, then there is a perfect negative linear relationship between x and y.\n",
    "- If *r* = 1, then there is a perfect positive linear relationship between x and y.\n",
    "- If *r* = 0, then there is no linear relationship between x and y."
   ]
  },
  {
   "cell_type": "markdown",
   "metadata": {},
   "source": [
    "### 1.7. R-Square Cautions"
   ]
  },
  {
   "cell_type": "markdown",
   "metadata": {},
   "source": [
    "####  1.7.1. Non-Linear Relationships"
   ]
  },
  {
   "cell_type": "markdown",
   "metadata": {},
   "source": [
    "- A $R^2 = r = 0$ quantifies that there is no *linear relationship* between *x* and *y*. \n",
    "- This does not mean there does not exist any higher orde relationship.\n",
    "\n",
    "Consider the case of points of a parabola and we can only perfrom simple linear regression (not multiple linear regression with multiple coefficents)."
   ]
  },
  {
   "cell_type": "code",
   "execution_count": 6,
   "metadata": {},
   "outputs": [],
   "source": [
    "class SLR:\n",
    "    def __init__(self, x, y):\n",
    "        self.x = x\n",
    "        self.y = y\n",
    "        \n",
    "        self.x_mean = np.mean(x)\n",
    "        self.y_mean = np.mean(y)\n",
    "        self.residuals = {'rx': self.x - self.x_mean, 'ry': self.y - self.y_mean}\n",
    "        self.reg_data = {}\n",
    "    \n",
    "    def get_best_fit(self):\n",
    "        b1 = ( np.sum(self.residuals['rx'] * self.residuals['ry'])/\n",
    "             np.sum(self.residuals['rx']**2))\n",
    "        b0 = self.y_mean - self.x_mean * b1\n",
    "        self.reg_data.update({'b1': b1,'b0': b0,})\n",
    "        self.yhat = b0 + self.x * b1\n",
    "        \n",
    "    def get_regression_analysis(self):\n",
    "        ssr = np.sum((self.yhat - self.y_mean)**2)\n",
    "        sst = np.sum(self.residuals['ry']**2)\n",
    "        rsq = ssr / sst \n",
    "        r = np.sign(self.reg_data['b1']) * rsq ** 0.5\n",
    "        self.reg_data.update({'rsq':rsq, 'r':r})\n",
    "        \n",
    "    def fit(self):\n",
    "        self.get_best_fit()\n",
    "        self.get_regression_analysis()"
   ]
  },
  {
   "cell_type": "code",
   "execution_count": 7,
   "metadata": {},
   "outputs": [
    {
     "data": {
      "image/png": "[encoded data removed]",
      "text/plain": [
       "<Figure size 500x300 with 1 Axes>"
      ]
     },
     "metadata": {},
     "output_type": "display_data"
    }
   ],
   "source": [
    "x = np.linspace(-2, 2, 100)\n",
    "y = x**2\n",
    "model = SLR(x, y)\n",
    "model.fit()\n",
    "\n",
    "\n",
    "fig = plt.figure(figsize=(5,3))\n",
    "ax = fig.add_subplot(1,1,1)\n",
    "ax.scatter(x, x**2, s=5, color=cpal[0])\n",
    "ax.plot(x, model.yhat, color=cpal[1])\n",
    "\n",
    "ax.set_xlabel('X')\n",
    "ax.set_ylabel('Y')\n",
    "ax.set_title(r'$R^2 = {}, r = {}$'.format(np.round(model.reg_data['rsq'], 6), np.round(model.reg_data['r'], 6)));"
   ]
  },
  {
   "cell_type": "markdown",
   "metadata": {},
   "source": [
    "#### 1.7.2. Large R-square"
   ]
  },
  {
   "cell_type": "markdown",
   "metadata": {},
   "source": [
    "A large $R^2$ value should not be interpreted as meaning that the estimated regression line fits the data well. Another function might better describe the trend in the data."
   ]
  },
  {
   "cell_type": "markdown",
   "metadata": {},
   "source": [
    "#### 1.7.3. Outliers"
   ]
  },
  {
   "cell_type": "markdown",
   "metadata": {},
   "source": [
    "The coefficient of determination $R^2$ and the correlation coefficient *r* can both be greatly affected by just one data point (or a few data points)."
   ]
  },
  {
   "cell_type": "code",
   "execution_count": 8,
   "metadata": {},
   "outputs": [
    {
     "data": {
      "image/png": "[encoded data removed]",
      "text/plain": [
       "<Figure size 800x300 with 2 Axes>"
      ]
     },
     "metadata": {},
     "output_type": "display_data"
    }
   ],
   "source": [
    "x = np.arange(5)\n",
    "y = np.array([0, 1,2,3,10])\n",
    "model1 = SLR(x,x)\n",
    "model2 = SLR(x,y)\n",
    "model1.fit()\n",
    "model2.fit()\n",
    "\n",
    "fig = plt.figure(figsize=(8,3))\n",
    "for i in range(2):\n",
    "    ax = fig.add_subplot(1,2,i+1)\n",
    "    if i == 0:\n",
    "        ax.scatter(x, x, s=5, color=cpal[0])\n",
    "        ax.plot(x, model1.yhat, color=cpal[1])\n",
    "        ax.set_title(r'$R^2 = {}, r = {}$'.format(np.round(model1.reg_data['rsq'], 6), np.round(model1.reg_data['r'], 6)))\n",
    "        \n",
    "    if i == 1:\n",
    "        ax.scatter(x, y, s=5, color=cpal[0])\n",
    "        ax.plot(x, model2.yhat, color=cpal[1])\n",
    "        ax.set_title(r'$R^2 = {}, r = {}$'.format(np.round(model2.reg_data['rsq'], 6), np.round(model2.reg_data['r'], 6)))"
   ]
  },
  {
   "cell_type": "markdown",
   "metadata": {},
   "source": [
    "Observations:\n",
    "- Adding one outlier in drops the $R^2$ from 1 to 0.77."
   ]
  },
  {
   "cell_type": "markdown",
   "metadata": {},
   "source": [
    "#### 1.7.4. Correlation & Causation"
   ]
  },
  {
   "cell_type": "markdown",
   "metadata": {},
   "source": [
    "Example: Ice Cream Sales and Shark Attacks\n",
    "\n",
    "Suppose we collect data on ice cream sales and shark attacks in a beach town over several summers. We calculate the correlation coefficient and find a strong positive correlation between ice cream sales and shark attacks.\n",
    "\n",
    "Correlation: 0.8 (strong positive correlation)\n",
    "\n",
    "At first glance, it might seem like eating ice cream causes shark attacks! However, this is a perfect example of how correlation does not imply causation.\n",
    "\n",
    "What's really going on:\n",
    "\n",
    "The underlying factor driving both ice cream sales and shark attacks is actually the weather. During hot summer days, more people visit the beach, leading to:\n",
    "\n",
    "1. Increased ice cream sales (people buy more ice cream to cool down)\n",
    "2. Increased shark attacks (more people in the water means a higher chance of shark encounters)\n",
    "\n",
    "In this case, the correlation between ice cream sales and shark attacks is due to a common underlying factor (weather), not because eating ice cream directly causes shark attacks."
   ]
  },
  {
   "cell_type": "markdown",
   "metadata": {},
   "source": [
    "#### 1.7.5. Sample Dependence"
   ]
  },
  {
   "cell_type": "markdown",
   "metadata": {},
   "source": [
    "Consider the study of skin cancer and mortality rate. Depending where the study is conducted (near poles or near equator) the data might give different linear regression lines."
   ]
  },
  {
   "cell_type": "markdown",
   "metadata": {},
   "source": [
    "#### 1.7.6. R-square & P-value"
   ]
  },
  {
   "cell_type": "markdown",
   "metadata": {},
   "source": [
    "Sometimes it is possible to get a high $R^2$ value and a big p-value, making it statistically insignificant."
   ]
  },
  {
   "cell_type": "markdown",
   "metadata": {},
   "source": [
    "#### 1.7.7. Slope & P-value"
   ]
  },
  {
   "cell_type": "markdown",
   "metadata": {},
   "source": [
    "A \"statistically significant\" value of $R^2$, does not imply that the slope is meaningfully different from 0.\n",
    "\n",
    "For lot of hypothesis test it is easier to reject null hypothesis. That is we can get a very small p-value but the slope can still be samll to 0."
   ]
  },
  {
   "cell_type": "markdown",
   "metadata": {},
   "source": [
    "### 1.8. Hypothesis Test for Population R square"
   ]
  },
  {
   "cell_type": "markdown",
   "metadata": {},
   "source": [
    "All this time we have been talking about sample correlation coefficent. That is, it varies from sample to sample.\n",
    "\n",
    "To estimate the population correlation coefficent $\\rho$ we perform hypothesis testing.\n",
    "\n",
    "1. **Hypotheses**: <br>\n",
    "*Null hypothesis*: $H_0:\\rho = 0$<br>\n",
    "*Alternative hypothesis*: $H_a: \\rho \\neq 0$\n",
    "\n",
    "2. **Test Statistic**: <br><br>\n",
    "$\\displaystyle t^* = \\frac{r\\sqrt{n-2}}{\\sqrt{1-r^2}}$\n",
    "\n",
    "3. **P-value**: The p-value is determined by referring to t-distribution with *n-2* degrees of freedom."
   ]
  },
  {
   "cell_type": "markdown",
   "metadata": {},
   "source": [
    "`Note`: \n",
    "- We may create the SLR class multiple times (instead of inheriting) to keep codes simpler.\n",
    "\n",
    "- For people who prefer not to code `statsmodels.api.OLS` can be used as alternative."
   ]
  },
  {
   "cell_type": "code",
   "execution_count": 9,
   "metadata": {},
   "outputs": [],
   "source": [
    "class SLR:\n",
    "    def __init__(self, x, y):\n",
    "        self.x = x\n",
    "        self.y = y\n",
    "        \n",
    "        self.n = self.x.shape[0]\n",
    "        self.x_mean = np.mean(x)\n",
    "        self.y_mean = np.mean(y)\n",
    "        self.residuals = {'rx': self.x - self.x_mean, 'ry': self.y - self.y_mean}\n",
    "        \n",
    "        self.coeff_data = {}\n",
    "        self.reg_data = {}\n",
    "    \n",
    "    def get_best_fit(self):\n",
    "        b1 = ( np.sum(self.residuals['rx'] * self.residuals['ry'])/\n",
    "             np.sum(self.residuals['rx']**2))\n",
    "        b0 = self.y_mean - self.x_mean * b1\n",
    "        self.yhat = b0 + self.x * b1\n",
    "        \n",
    "        for n, i in enumerate((b0, b1)):\n",
    "            self.coeff_data.update({f'b{n}': i})\n",
    "        \n",
    "    def get_regression_analysis(self):\n",
    "        ssr = np.sum((self.yhat - self.y_mean)**2)\n",
    "        sst = np.sum(self.residuals['ry']**2)\n",
    "        rsq = ssr / sst \n",
    "        r = np.sign(self.coeff_data['b1']) * rsq ** 0.5\n",
    "        \n",
    "        # hypothesis testing for r-square\n",
    "        if r != 1:\n",
    "            rsq_test_stat = r * (self.n - 2) / (1 - r**2)**0.5\n",
    "            p_val = 2 * (1- sc.stats.t.cdf(rsq_test_stat, self.n-2))\n",
    "        else:\n",
    "            p_val = 1\n",
    "        self.reg_data.update({'R-square':rsq, 'P-value': p_val})\n",
    "        \n",
    "    def fit(self):\n",
    "        self.get_best_fit()\n",
    "        self.get_regression_analysis()\n",
    "        \n",
    "    \n",
    "    def print_summary(self):\n",
    "        self.print_table(self.reg_data, 'Regression Statistics', ['Term', 'Value'])\n",
    "        self.print_table(self.coeff_data, 'Coefficents', ['Term', 'Value'])\n",
    "        \n",
    "    def print_table(self, data_dict, main_title, title):\n",
    "        print(f'\\n{main_title}')\n",
    "        temp = 15*(len(title)) - 5\n",
    "        print('='*temp)\n",
    "        print(('{:<15}'*len(title)).format(*title))\n",
    "        print('='*temp)\n",
    "        for k, v in data_dict.items():\n",
    "            if type(v) != np.float64:\n",
    "                print(('{:<15}'*(v.shape[0] + 1)).format(k, *np.round(v, 6))) \n",
    "            else:\n",
    "                print(('{:<15}'*(2)).format(k, np.round(v, 6)))   "
   ]
  },
  {
   "cell_type": "markdown",
   "metadata": {},
   "source": [
    "Consider the data consisting of temperature at a day and the ice cream sales on that day. We are trying to find whether there is any relation between these two quantities."
   ]
  },
  {
   "cell_type": "code",
   "execution_count": 10,
   "metadata": {},
   "outputs": [
    {
     "name": "stdout",
     "output_type": "stream",
     "text": [
      "\n",
      "Regression Statistics\n",
      "=========================\n",
      "Term           Value          \n",
      "=========================\n",
      "R-square       0.580455       \n",
      "P-value        1.3e-05        \n",
      "\n",
      "Coefficents\n",
      "=========================\n",
      "Term           Value          \n",
      "=========================\n",
      "b0             -8.884647      \n",
      "b1             2.867994       \n"
     ]
    }
   ],
   "source": [
    "df = pd.DataFrame({\n",
    "    'Temperature (C)': [21,16,14,30,32,21,25,27,35,15],\n",
    "    'Ice cream sales': [42,18,25,74,112,71,58,47,82,59]\n",
    "})\n",
    "data = df.to_numpy().T\n",
    "\n",
    "model = SLR(data[0], data[1])\n",
    "model.fit()\n",
    "model.print_summary()"
   ]
  },
  {
   "cell_type": "markdown",
   "metadata": {},
   "source": [
    "For a significance level of 0.05 we can reject the null hypothesis and claim that $R^2$ is significant."
   ]
  }
 ],
 "metadata": {
  "kernelspec": {
   "display_name": "maths",
   "language": "python",
   "name": "python3"
  },
  "language_info": {
   "codemirror_mode": {
    "name": "ipython",
    "version": 3
   },
   "file_extension": ".py",
   "mimetype": "text/x-python",
   "name": "python",
   "nbconvert_exporter": "python",
   "pygments_lexer": "ipython3",
   "version": "3.13.1"
  }
 },
 "nbformat": 4,
 "nbformat_minor": 2
}
