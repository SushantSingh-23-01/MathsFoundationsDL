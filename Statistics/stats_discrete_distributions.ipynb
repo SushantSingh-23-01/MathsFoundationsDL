{
 "cells": [
  {
   "cell_type": "code",
   "execution_count": 37,
   "metadata": {},
   "outputs": [],
   "source": [
    "import numpy as np\n",
    "import math\n",
    "import matplotlib.pyplot as plt\n",
    "import pandas as pd\n",
    "plt.style.use('rose-pine-moon')\n",
    "%matplotlib inline"
   ]
  },
  {
   "cell_type": "markdown",
   "metadata": {},
   "source": [
    "Resources: \n",
    "\n",
    "1) [STAT 414 | Introduction to Probability Theory | Section 2: Discrete Distributions](https://online.stat.psu.edu/stat414/section/2)\n",
    "\n",
    "2) [jbstatistics](https://www.youtube.com/@jbstatistics)\n",
    "\n",
    "3) [zedstatistics](https://www.youtube.com/watch?v=YXLVjCKVP7U&list=PLTNMv857s9WVzutwxaMb0YZKW7hoveGLS)\n"
   ]
  },
  {
   "cell_type": "markdown",
   "metadata": {},
   "source": [
    "### 1. Discrete Random Variables"
   ]
  },
  {
   "cell_type": "markdown",
   "metadata": {},
   "source": [
    "#### 1.1. Discrete Random Variable"
   ]
  },
  {
   "cell_type": "markdown",
   "metadata": {},
   "source": [
    "A random variable *X* is a **discrete random variable** if:\n",
    "- there are a finite number of possible outcomes of *X*. <br>\n",
    "For example, selecting a random person from a group of 50 people, there sex is going to either be male or female.<br>\n",
    "So X is {0, 1} , if male=0 and female=1.\n",
    "\n",
    "- there are s countably infinite number of possible outcomes of X. <br>\n",
    "For example, drawing a ace of spades from a pack of card. We can draw it at first the pull, the second pull, third third pull or could be exteremly unlucky and draw at even 52 pulls.<br>\n",
    " So there are infinite possible outcomes.<br>\n",
    "  And X={1, 01, 001}, where 0 =  not drawing ace of spades and 1 = drawing ace of spades."
   ]
  },
  {
   "cell_type": "markdown",
   "metadata": {},
   "source": [
    "#### 1.2. Probability Mass Functions"
   ]
  },
  {
   "cell_type": "markdown",
   "metadata": {},
   "source": [
    "The **probability mass function**, $P(X=x) = f(x)$, of a discrete random variable *X* is a function that satisfies the following properties:\n",
    "\n",
    "- $P(X=x) = f(x) > 0, \\forall x \\in S$. <br>\n",
    "That is for all elements *x* in space *S* their probabilites must be positive.\n",
    "\n",
    "- $\\displaystyle \\sum_{x\\in S}f(x) = 1$ <br>\n",
    "That is adding all probabilities of *x*, the sum must be equal to 1.\n",
    "\n",
    "- $\\displaystyle P(X\\in A) = \\sum_{x\\in A} f(x)$ <br> That is to determine the probability associated with the event *A*, you just sum up probabilities of *x* values in *A*.\n",
    "\n",
    "Since $f(x)$ is a function, it can be presented as:\n",
    "- table\n",
    "- graph (histogram, frequency polygon)\n",
    "- formula"
   ]
  },
  {
   "cell_type": "markdown",
   "metadata": {},
   "source": [
    "##### 1.2.1 Tabular Form"
   ]
  },
  {
   "cell_type": "markdown",
   "metadata": {},
   "source": [
    "Consider the data consisting of number of siblings of randomly selected people in tabular form.\n",
    "\n",
    "\\begin{array}{c:c:c:c:c}\n",
    "   x & 0 & 1 & 2 & 3 \\\\ \\hline\n",
    "   f(x) & 0.41 & 0.45 & 0.11 & 0.03 \\\\\n",
    "\\end{array}"
   ]
  },
  {
   "cell_type": "code",
   "execution_count": 38,
   "metadata": {},
   "outputs": [
    {
     "data": {
      "text/html": [
       "<div>\n",
       "<style scoped>\n",
       "    .dataframe tbody tr th:only-of-type {\n",
       "        vertical-align: middle;\n",
       "    }\n",
       "\n",
       "    .dataframe tbody tr th {\n",
       "        vertical-align: top;\n",
       "    }\n",
       "\n",
       "    .dataframe thead th {\n",
       "        text-align: right;\n",
       "    }\n",
       "</style>\n",
       "<table border=\"1\" class=\"dataframe\">\n",
       "  <thead>\n",
       "    <tr style=\"text-align: right;\">\n",
       "      <th></th>\n",
       "      <th>x</th>\n",
       "      <th>f(x)</th>\n",
       "    </tr>\n",
       "  </thead>\n",
       "  <tbody>\n",
       "    <tr>\n",
       "      <th>0</th>\n",
       "      <td>0</td>\n",
       "      <td>0.41</td>\n",
       "    </tr>\n",
       "    <tr>\n",
       "      <th>1</th>\n",
       "      <td>1</td>\n",
       "      <td>0.45</td>\n",
       "    </tr>\n",
       "    <tr>\n",
       "      <th>2</th>\n",
       "      <td>2</td>\n",
       "      <td>0.11</td>\n",
       "    </tr>\n",
       "    <tr>\n",
       "      <th>3</th>\n",
       "      <td>3</td>\n",
       "      <td>0.03</td>\n",
       "    </tr>\n",
       "  </tbody>\n",
       "</table>\n",
       "</div>"
      ],
      "text/plain": [
       "   x  f(x)\n",
       "0  0  0.41\n",
       "1  1  0.45\n",
       "2  2  0.11\n",
       "3  3  0.03"
      ]
     },
     "execution_count": 38,
     "metadata": {},
     "output_type": "execute_result"
    }
   ],
   "source": [
    "data = {'x': [0,1,2,3], 'f(x)': [0.41, 0.45, 0.11, 0.03]}\n",
    "df = pd.DataFrame(data)\n",
    "df"
   ]
  },
  {
   "cell_type": "markdown",
   "metadata": {},
   "source": [
    "##### 1.2.2 Graphical Form"
   ]
  },
  {
   "cell_type": "code",
   "execution_count": 39,
   "metadata": {},
   "outputs": [
    {
     "data": {
      "image/png": "[encoded data removed]",
      "text/plain": [
       "<Figure size 1000x300 with 2 Axes>"
      ]
     },
     "metadata": {},
     "output_type": "display_data"
    }
   ],
   "source": [
    "fig = plt.figure(figsize=(10,3))\n",
    "\n",
    "for i in range(2):\n",
    "    if i == 0:\n",
    "        ax = fig.add_subplot(1,2,i+1)\n",
    "        ax.bar(x=data['x'], height=data['f(x)'], width=1)\n",
    "        ax.set_title('Histogram')\n",
    "    elif i == 1:\n",
    "        ax = fig.add_subplot(1,2,i+1)\n",
    "        ax.plot(data['x'], data['f(x)'], color='cyan', marker='o')\n",
    "        ax.fill_between(data['x'], data['f(x)'], alpha=0.5)\n",
    "        ax.set_title('Frequency polygon')\n",
    "    ax.set_ylabel('$f(x)$')\n",
    "    ax.set_xlabel('$x$')"
   ]
  },
  {
   "cell_type": "markdown",
   "metadata": {},
   "source": [
    "#### 1.3. Cumulative Distribution Function"
   ]
  },
  {
   "cell_type": "markdown",
   "metadata": {},
   "source": [
    "The cumulative distribution function (CDF or cdf) of the random variable *X* has the following definition:\n",
    "\n",
    "$F_X(t) = P(X \\leq t)$\n",
    "\n",
    "Properties of Cumulative Distribution Function are:\n",
    "1. $F_X(t)$ is a non decreasing funtion for $-\\infty < t < \\infty$.\n",
    "\n",
    "2. $0 \\leq F_X(t) \\leq 1$\n",
    "\n",
    "3. If *X* is a discrete random variable whose minimum value is *a* and maximum value is *b* then :<br>\n",
    "$F_x(a) = f_x(a) \\qquad F_x(b) = 1$ <br>\n",
    "and $F_X(c) = 0$ if $c \\leq 0$."
   ]
  },
  {
   "cell_type": "markdown",
   "metadata": {},
   "source": [
    "##### 1.3.1 Graph of Cumulative Distribution Function"
   ]
  },
  {
   "cell_type": "code",
   "execution_count": 40,
   "metadata": {},
   "outputs": [
    {
     "data": {
      "image/png": "[encoded data removed]",
      "text/plain": [
       "<Figure size 1000x300 with 2 Axes>"
      ]
     },
     "metadata": {},
     "output_type": "display_data"
    }
   ],
   "source": [
    "fig = plt.figure(figsize=(10,3))\n",
    "\n",
    "for i in range(2):\n",
    "    ax = fig.add_subplot(1,2, i+1)\n",
    "    ax.set_xlabel('$x$')\n",
    "    if i == 0:\n",
    "        ax.bar(data['x'], data['f(x)'], width=1, alpha=0.7)\n",
    "        ax.set_title('Probability Mass function')\n",
    "        ax.set_ylabel('$f(x)$')\n",
    "        \n",
    "    elif i == 1:\n",
    "        ax.bar(data['x'], np.cumsum(data['f(x)']), width=1, alpha=0.7)\n",
    "        ax.set_title('Cumulative Distribution function')\n",
    "        ax.set_ylabel('$F(x)$')"
   ]
  },
  {
   "cell_type": "markdown",
   "metadata": {},
   "source": [
    "#### 1.4 Hypergeometric Distribution"
   ]
  },
  {
   "cell_type": "markdown",
   "metadata": {},
   "source": [
    "If we randomly select *n* items **without replacement** from a set of *N* items of which: \n",
    "- *m* of the items are of one type and *N - m* of the items are of a second type.\n",
    "\n",
    "- then the probability mass function of random variable *X* is called the **hypergeometric distribution** and is of the form:<br><br>\n",
    "$\\displaystyle P(X = x) = f(x) = \\frac{{m\\choose x}{{N-m}\\choose{n-x}}}{N \\choose n}$"
   ]
  },
  {
   "cell_type": "markdown",
   "metadata": {},
   "source": [
    "##### 1.4.1 Example"
   ]
  },
  {
   "cell_type": "markdown",
   "metadata": {},
   "source": [
    "Consider the game of poker, the probability distribution of spades in a 5-card poker hand is given by\n",
    "\n",
    "$\\displaystyle P(X = x) = f(x) = \\frac{{m\\choose x}{{N-m}\\choose{n-x}}}{N \\choose n}$\n",
    "\n",
    "where N = 52, m = 13, n = 5, x = {0,1,2,3,4,5}"
   ]
  },
  {
   "cell_type": "code",
   "execution_count": 41,
   "metadata": {},
   "outputs": [
    {
     "data": {
      "text/html": [
       "<div>\n",
       "<style scoped>\n",
       "    .dataframe tbody tr th:only-of-type {\n",
       "        vertical-align: middle;\n",
       "    }\n",
       "\n",
       "    .dataframe tbody tr th {\n",
       "        vertical-align: top;\n",
       "    }\n",
       "\n",
       "    .dataframe thead th {\n",
       "        text-align: right;\n",
       "    }\n",
       "</style>\n",
       "<table border=\"1\" class=\"dataframe\">\n",
       "  <thead>\n",
       "    <tr style=\"text-align: right;\">\n",
       "      <th></th>\n",
       "      <th>x</th>\n",
       "      <th>f(x)</th>\n",
       "      <th>F(x)</th>\n",
       "    </tr>\n",
       "  </thead>\n",
       "  <tbody>\n",
       "    <tr>\n",
       "      <th>0</th>\n",
       "      <td>0.0</td>\n",
       "      <td>0.221534</td>\n",
       "      <td>0.221534</td>\n",
       "    </tr>\n",
       "    <tr>\n",
       "      <th>1</th>\n",
       "      <td>1.0</td>\n",
       "      <td>0.411420</td>\n",
       "      <td>0.632953</td>\n",
       "    </tr>\n",
       "    <tr>\n",
       "      <th>2</th>\n",
       "      <td>2.0</td>\n",
       "      <td>0.274280</td>\n",
       "      <td>0.907233</td>\n",
       "    </tr>\n",
       "    <tr>\n",
       "      <th>3</th>\n",
       "      <td>3.0</td>\n",
       "      <td>0.081543</td>\n",
       "      <td>0.988776</td>\n",
       "    </tr>\n",
       "    <tr>\n",
       "      <th>4</th>\n",
       "      <td>4.0</td>\n",
       "      <td>0.010729</td>\n",
       "      <td>0.999505</td>\n",
       "    </tr>\n",
       "    <tr>\n",
       "      <th>5</th>\n",
       "      <td>5.0</td>\n",
       "      <td>0.000495</td>\n",
       "      <td>1.000000</td>\n",
       "    </tr>\n",
       "  </tbody>\n",
       "</table>\n",
       "</div>"
      ],
      "text/plain": [
       "     x      f(x)      F(x)\n",
       "0  0.0  0.221534  0.221534\n",
       "1  1.0  0.411420  0.632953\n",
       "2  2.0  0.274280  0.907233\n",
       "3  3.0  0.081543  0.988776\n",
       "4  4.0  0.010729  0.999505\n",
       "5  5.0  0.000495  1.000000"
      ]
     },
     "metadata": {},
     "output_type": "display_data"
    }
   ],
   "source": [
    "N, m, n = 52, 13, 5\n",
    "probs = []\n",
    "for x in range(6):\n",
    "    probs.append(math.comb(m, x)*math.comb(N-m, n-x)/math.comb(N,n))\n",
    "\n",
    "df = pd.DataFrame({\n",
    "    'x': np.linspace(0, 5, 6), \n",
    "    'f(x)':probs,\n",
    "    'F(x)':np.cumsum(probs)\n",
    "})\n",
    "display(df)"
   ]
  },
  {
   "cell_type": "code",
   "execution_count": 42,
   "metadata": {},
   "outputs": [
    {
     "data": {
      "image/png": "[encoded data removed]",
      "text/plain": [
       "<Figure size 1000x300 with 2 Axes>"
      ]
     },
     "metadata": {},
     "output_type": "display_data"
    }
   ],
   "source": [
    "fig = plt.figure(figsize=(10,3))\n",
    "\n",
    "for i in range(2):\n",
    "    ax = fig.add_subplot(1,2, i+1)\n",
    "    ax.set_xlabel('$x$')\n",
    "    if i == 0:\n",
    "        ax.bar(data['x'], data['f(x)'], alpha=0.7)\n",
    "        ax.set_title('Probability Mass function')\n",
    "        ax.set_ylabel('$f(x)$')\n",
    "        \n",
    "    elif i == 1:\n",
    "        ax.bar(data['x'], np.cumsum(data['f(x)']), alpha=0.7)\n",
    "        ax.set_title('Cumulative Distribution function')\n",
    "        ax.set_ylabel('$F(x)$')"
   ]
  },
  {
   "cell_type": "markdown",
   "metadata": {},
   "source": [
    "##### 1.4.2 Expectations and Varaince"
   ]
  },
  {
   "cell_type": "markdown",
   "metadata": {},
   "source": [
    "- $\\displaystyle E(X) = n \\frac{m}{N}$\n",
    "\n",
    "- $\\displaystyle V(x) = n \\frac{m}{N}\\frac{(N-m)}{N}\\frac{(N-n)}{(N-1)}$"
   ]
  },
  {
   "cell_type": "markdown",
   "metadata": {},
   "source": [
    "### 2. Mathematical Expectation"
   ]
  },
  {
   "cell_type": "markdown",
   "metadata": {},
   "source": [
    "#### 2.1. Definition"
   ]
  },
  {
   "cell_type": "markdown",
   "metadata": {},
   "source": [
    "If $f(x)$ is the p.m.f of discrete random variable *X* with support *S*,  then **expected of value** of $u(x)$ is:\n",
    "\n",
    "$\\displaystyle E(u(X)) = \\sum_{x\\in S}u(x)f(x)$ \n",
    "\n",
    "given the summation exsists (i.e less than $\\infty$)"
   ]
  },
  {
   "cell_type": "markdown",
   "metadata": {},
   "source": [
    "##### 2.1.1 Example: Lottery"
   ]
  },
  {
   "cell_type": "markdown",
   "metadata": {},
   "source": [
    "Consider the following data of *MEGA MILLION ODDS and PRIZES*."
   ]
  },
  {
   "cell_type": "code",
   "execution_count": 43,
   "metadata": {},
   "outputs": [
    {
     "data": {
      "text/html": [
       "<div>\n",
       "<style scoped>\n",
       "    .dataframe tbody tr th:only-of-type {\n",
       "        vertical-align: middle;\n",
       "    }\n",
       "\n",
       "    .dataframe tbody tr th {\n",
       "        vertical-align: top;\n",
       "    }\n",
       "\n",
       "    .dataframe thead th {\n",
       "        text-align: right;\n",
       "    }\n",
       "</style>\n",
       "<table border=\"1\" class=\"dataframe\">\n",
       "  <thead>\n",
       "    <tr style=\"text-align: right;\">\n",
       "      <th></th>\n",
       "      <th>Odds</th>\n",
       "      <th>Prize</th>\n",
       "    </tr>\n",
       "  </thead>\n",
       "  <tbody>\n",
       "    <tr>\n",
       "      <th>0</th>\n",
       "      <td>3.304962e-09</td>\n",
       "      <td>20000000.0</td>\n",
       "    </tr>\n",
       "    <tr>\n",
       "      <th>1</th>\n",
       "      <td>7.931909e-08</td>\n",
       "      <td>1000000.0</td>\n",
       "    </tr>\n",
       "    <tr>\n",
       "      <th>2</th>\n",
       "      <td>1.074113e-06</td>\n",
       "      <td>10000.0</td>\n",
       "    </tr>\n",
       "    <tr>\n",
       "      <th>3</th>\n",
       "      <td>2.577851e-05</td>\n",
       "      <td>500.0</td>\n",
       "    </tr>\n",
       "    <tr>\n",
       "      <th>4</th>\n",
       "      <td>6.874270e-05</td>\n",
       "      <td>200.0</td>\n",
       "    </tr>\n",
       "    <tr>\n",
       "      <th>5</th>\n",
       "      <td>1.650165e-03</td>\n",
       "      <td>10.0</td>\n",
       "    </tr>\n",
       "    <tr>\n",
       "      <th>6</th>\n",
       "      <td>1.443001e-03</td>\n",
       "      <td>10.0</td>\n",
       "    </tr>\n",
       "    <tr>\n",
       "      <th>7</th>\n",
       "      <td>1.123596e-02</td>\n",
       "      <td>4.0</td>\n",
       "    </tr>\n",
       "    <tr>\n",
       "      <th>8</th>\n",
       "      <td>2.702703e-02</td>\n",
       "      <td>2.0</td>\n",
       "    </tr>\n",
       "  </tbody>\n",
       "</table>\n",
       "</div>"
      ],
      "text/plain": [
       "           Odds       Prize\n",
       "0  3.304962e-09  20000000.0\n",
       "1  7.931909e-08   1000000.0\n",
       "2  1.074113e-06     10000.0\n",
       "3  2.577851e-05       500.0\n",
       "4  6.874270e-05       200.0\n",
       "5  1.650165e-03        10.0\n",
       "6  1.443001e-03        10.0\n",
       "7  1.123596e-02         4.0\n",
       "8  2.702703e-02         2.0"
      ]
     },
     "execution_count": 43,
     "metadata": {},
     "output_type": "execute_result"
    }
   ],
   "source": [
    "df = pd.DataFrame({\n",
    "    'Odds': [1/302_575_350, 1/12_60_7306, 1/931_001, 1/38_792, 1/14_547, 1/606, 1/693, 1/89, 1/37],\n",
    "    'Prize': [20e6, 1e6, 1e4, 5e2, 2e2, 10, 10, 4, 2]\n",
    "})\n",
    "\n",
    "df"
   ]
  },
  {
   "cell_type": "code",
   "execution_count": 44,
   "metadata": {},
   "outputs": [
    {
     "name": "stdout",
     "output_type": "stream",
     "text": [
      "Expected money gained per ticket: 0.3127\n"
     ]
    }
   ],
   "source": [
    "print(f'Expected money gained per ticket: {np.sum(df['Odds']*df['Prize']):.4f}')"
   ]
  },
  {
   "cell_type": "markdown",
   "metadata": {},
   "source": [
    "- If the ticket costed $2 and we bought a large number of tickets, we would get a return of 0.31 cents from each ticket. \n",
    "- This does not mean each ticket will have a return of $0.31 as we could win the smaller prizes, but on large this would be the average winning per ticket.\n",
    "\n",
    "That is if one wishes to make money, buying lottery tickets would not be advisable."
   ]
  },
  {
   "cell_type": "markdown",
   "metadata": {},
   "source": [
    "##### 2.1.2 Properties of Expectation"
   ]
  },
  {
   "cell_type": "markdown",
   "metadata": {},
   "source": [
    "1. $\\displaystyle E(c) = \\sum_{x\\in S} cf(x) = c \\sum_{x\\in S} f(x) = c\\cdot 1 = c$\n",
    "\n",
    "2. $\\displaystyle E[cu(X)] = \\sum_{x\\in S}cu(x)f(x) = c \\sum_{x\\in S} u(x)f(x) = cE[u(X)]$\n",
    "\n",
    "3. $\\displaystyle E[\\sum_{i=1}^k c_i u_i (X)] = \\sum_{i=1}^k c_1 u_1 f(x) + \\sum_{i=1}^k c_2 u_2 f(x) + \\dots + \\sum_{i=1}^k c_k u_k f(x) = \\sum_{i=1}^k c_i E[(u_i(X))]$"
   ]
  },
  {
   "cell_type": "markdown",
   "metadata": {},
   "source": [
    "#### 2.2 Mean of X"
   ]
  },
  {
   "cell_type": "markdown",
   "metadata": {},
   "source": [
    "Let $u(X)=X$, the expectation of $u(X)$:\n",
    "\n",
    "$\\displaystyle E(X) = \\mu = \\sum_{x\\in S} xf(x)$\n",
    "\n",
    "is called the *expected value of X* or *the mean of X*. The mean of X is also referred as  *the first moment about the origin*.\n",
    "\n",
    "**Note**: Mean is only equal to expectation if probability of occurence of all events are equal."
   ]
  },
  {
   "cell_type": "markdown",
   "metadata": {},
   "source": [
    "##### 2.2.1 Mean of Hypergeometric distribution"
   ]
  },
  {
   "cell_type": "markdown",
   "metadata": {},
   "source": [
    "For hypergeometric function the p.m.f is given as\n",
    "\n",
    "$\\displaystyle f(x) = \\frac{{m \\choose x} {{N-m}\\choose{n-x}}}{N\\choose n}$\n",
    "\n",
    "and the mean of X is:\n",
    "\n",
    "$\\displaystyle E(X) = \\sum_{x\\in S} x\\frac{{m \\choose x} {{N-m}\\choose{n-x}}}{N\\choose n}$\n",
    "\n",
    "For mean to be non zero $x\\neq 0$. We also know that:\n",
    "\n",
    "${N\\choose n} = \\frac{N!}{n!(N-n)!} = \\frac{N(N-1)!}{n\\cdot(n-1)!(N-1-(n-1))!} = \\frac{N}{n}\\cdot {{N-1}\\choose{n-1}}$\n",
    "\n",
    "Using the above expression for each in quantity of mean of X:\n",
    "\n",
    "$\\displaystyle \n",
    "E(X) = \\sum_{x>0} x\\frac{{m \\choose x} {{N-m}\\choose{n-x}}}{N\\choose n} \\\\[1em]\n",
    "\\Rightarrow \\sum_{x>0} x \\cdot \\frac{m}{x} \\cdot \\frac{n}{N} \\cdot \\frac{{{m-1}\\choose {x-1}}{{N-m}\\choose{n-x}}}{{N-1}\\choose{n-1}} \\\\[1em]\n",
    "\\Rightarrow \\frac{mn}{N}\\sum_{x>0} \\frac{{{m-1}\\choose {x-1}}{{(N-1)-(m-1)}\\choose{(n-1)-(x-1)}}}{{N-1}\\choose{n-1}} \\\\[1em] \n",
    "\\Rightarrow \\frac{mn}{N} \\sum_{x>0} f(x-1) \\\\[1em]\n",
    "\\Rightarrow E(X) = \\frac{mn}{N}\\cdot 1 = \\frac{mn}{N}\n",
    "$\n"
   ]
  },
  {
   "cell_type": "markdown",
   "metadata": {},
   "source": [
    "##### 2.2.2 Mean of Uniform Distribution"
   ]
  },
  {
   "cell_type": "markdown",
   "metadata": {},
   "source": [
    "The p.m.f of uniform distribution function is given as:\n",
    "\n",
    "$f(x) = \\frac{1}{m}$ for $x = 1,2,3,\\dots,m$\n",
    "\n",
    "then mean of uniform distribution is given as:\n",
    "\n",
    "$\\displaystyle \n",
    "E(X) = \\sum_{x=1}^m x \\cdot \\frac{1}{m} \\\\[1em]\n",
    "\\Rightarrow \\frac{1}{m} \\sum_{x=1}^m x  \\\\[1em]\n",
    "\\Rightarrow \\frac{1}{m} [\\frac{m(m+1)}{2}] \\\\[1em]\n",
    "\\Rightarrow E(X) = \\frac{m+1}{2}\n",
    "$"
   ]
  },
  {
   "cell_type": "markdown",
   "metadata": {},
   "source": [
    "#### 2.3 Variance of X"
   ]
  },
  {
   "cell_type": "markdown",
   "metadata": {},
   "source": [
    "**Definition**: When $u(X) = (X-\\mu)^2$, the epxectation of u(x):\n",
    "\n",
    "$\\displaystyle E[(X-\\mu)^2] = \\sigma^2 = \\sum_{x\\in S} (x-\\mu)^2f(x)$\n",
    "\n",
    "is called the *variance of X*. The variance of *X* is also called the *second moment of X about the mean $\\mu$*.\n",
    "\n",
    "Then the *Standard deviation of X* is:\n",
    "\n",
    "$\\displaystyle \\sigma = \\sqrt{\\sum_{x\\in S} (x-\\mu)^2f(x)}$"
   ]
  },
  {
   "cell_type": "markdown",
   "metadata": {},
   "source": [
    "##### 2.3.1 Example"
   ]
  },
  {
   "cell_type": "code",
   "execution_count": 45,
   "metadata": {},
   "outputs": [
    {
     "data": {
      "text/html": [
       "<div>\n",
       "<style scoped>\n",
       "    .dataframe tbody tr th:only-of-type {\n",
       "        vertical-align: middle;\n",
       "    }\n",
       "\n",
       "    .dataframe tbody tr th {\n",
       "        vertical-align: top;\n",
       "    }\n",
       "\n",
       "    .dataframe thead th {\n",
       "        text-align: right;\n",
       "    }\n",
       "</style>\n",
       "<table border=\"1\" class=\"dataframe\">\n",
       "  <thead>\n",
       "    <tr style=\"text-align: right;\">\n",
       "      <th></th>\n",
       "      <th>x</th>\n",
       "      <th>f(x)</th>\n",
       "      <th>y</th>\n",
       "      <th>f(y)</th>\n",
       "    </tr>\n",
       "  </thead>\n",
       "  <tbody>\n",
       "    <tr>\n",
       "      <th>0</th>\n",
       "      <td>0</td>\n",
       "      <td>0.0</td>\n",
       "      <td>1</td>\n",
       "      <td>0.4</td>\n",
       "    </tr>\n",
       "    <tr>\n",
       "      <th>1</th>\n",
       "      <td>3</td>\n",
       "      <td>0.3</td>\n",
       "      <td>2</td>\n",
       "      <td>0.1</td>\n",
       "    </tr>\n",
       "    <tr>\n",
       "      <th>2</th>\n",
       "      <td>4</td>\n",
       "      <td>0.4</td>\n",
       "      <td>6</td>\n",
       "      <td>0.3</td>\n",
       "    </tr>\n",
       "    <tr>\n",
       "      <th>3</th>\n",
       "      <td>5</td>\n",
       "      <td>0.3</td>\n",
       "      <td>8</td>\n",
       "      <td>0.2</td>\n",
       "    </tr>\n",
       "  </tbody>\n",
       "</table>\n",
       "</div>"
      ],
      "text/plain": [
       "   x  f(x)  y  f(y)\n",
       "0  0   0.0  1   0.4\n",
       "1  3   0.3  2   0.1\n",
       "2  4   0.4  6   0.3\n",
       "3  5   0.3  8   0.2"
      ]
     },
     "metadata": {},
     "output_type": "display_data"
    }
   ],
   "source": [
    "df = pd.DataFrame({\n",
    "    'x':[0,3,4,5], 'f(x)': [0,0.3,0.4,0.3],\n",
    "    'y':[1,2,6,8], 'f(y)': [0.4,0.1,0.3,0.2]\n",
    "})\n",
    "display(df)"
   ]
  },
  {
   "cell_type": "code",
   "execution_count": 46,
   "metadata": {},
   "outputs": [
    {
     "name": "stdout",
     "output_type": "stream",
     "text": [
      "Mean of x: 4.0 \n",
      "Variance of x: 0.6 \n",
      "Mean of y: 4.0 \n",
      "Variance of y: 8.4\n"
     ]
    }
   ],
   "source": [
    "x_mean = np.sum(df['x']*df['f(x)'])\n",
    "x_var = np.sum((df['x']-x_mean)**2 * df['f(x)'])\n",
    "\n",
    "y_mean = np.sum(df['y']*df['f(y)'])\n",
    "y_var = np.sum((df['y']-y_mean)**2 * df['f(y)'])\n",
    "print(\n",
    "    f'Mean of x: {x_mean}',\n",
    "    f'\\nVariance of x: {x_var}',\n",
    "    f'\\nMean of y: {y_mean}',\n",
    "    f'\\nVariance of y: {y_var}'\n",
    ")"
   ]
  },
  {
   "cell_type": "markdown",
   "metadata": {},
   "source": [
    "Note both p.m.f have same mean, so variance helps in distinguishing them. *y* has higher variance thus higher spread than *x*."
   ]
  },
  {
   "cell_type": "markdown",
   "metadata": {},
   "source": [
    "##### 2.3.2 Shortcut variance"
   ]
  },
  {
   "cell_type": "markdown",
   "metadata": {},
   "source": [
    "$\\sigma^2 = E[(x-\\mu)^2] \\\\[1em]\n",
    "= E[x^2 - 2x\\mu + \\mu^2] \\\\[1em]\n",
    "= E(x^2) - 2\\mu E(x) + \\mu^2 \\\\[1em]\n",
    "= E(x^2) - 2\\mu^2 + \\mu^2 \\\\[1em]\n",
    "\\sigma^2 = E(x^2) - \\mu^2\n",
    "$"
   ]
  },
  {
   "cell_type": "markdown",
   "metadata": {},
   "source": [
    "#### 2.4 Sample Mean and Variance"
   ]
  },
  {
   "cell_type": "markdown",
   "metadata": {},
   "source": [
    "The **sample mean** deonted by $\\bar{x}$ is simply the average of n data points:\n",
    "$$\\bar{x} = \\frac{x_1+x_2+\\dots+x_n}{n} = \\frac{1}{n}\\sum_{i=1}^{n}x_i$$\n",
    "\n",
    "The **sample variance** denoted $s^2$ summarizes the \"spread\" or \"variation\" of the data:\n",
    "$$s^2 = \\frac{1}{n-1} \\sum_{i=1}^n(x_i-x)^2$$\n",
    "\n",
    "and the **sample standard deviation** is the positive root of variance.\n",
    "\n",
    "**Shortcut sample variance**:\n",
    "$$s^2 = \\frac{1}{n-1}\\sum_{i=1}^n (x_i - \\bar{x})^2 \\\\[1em]\n",
    "= \\frac{1}{n-1}\\left[\\sum_{i=1}^n (x_i^2 - 2x_i\\bar{x} + \\bar{x}^2)\\right] \\\\[1em]\n",
    "= \\frac{1}{n-1} \\left[\\sum_{i=1}^n x_i^2 - 2\\bar{x} \\sum_{i=1}^nx_i + n \\bar{x}^2\\right] \\\\[1em] \n",
    "= \\frac{1}{n-1} \\left[\\sum_{i=1}^n x_i^2 - 2n\\bar{x}^2 + n\\bar{x}^2\\right] \\\\[1em]\n",
    "= \\frac{1}{n-1} \\left[\\sum_{i=1}^n x_i^2 - n\\bar{x}^2 \\right]\n",
    "$$"
   ]
  },
  {
   "cell_type": "markdown",
   "metadata": {},
   "source": [
    "##### 2.4.1 Example"
   ]
  },
  {
   "cell_type": "code",
   "execution_count": 47,
   "metadata": {},
   "outputs": [
    {
     "data": {
      "text/html": [
       "<div>\n",
       "<style scoped>\n",
       "    .dataframe tbody tr th:only-of-type {\n",
       "        vertical-align: middle;\n",
       "    }\n",
       "\n",
       "    .dataframe tbody tr th {\n",
       "        vertical-align: top;\n",
       "    }\n",
       "\n",
       "    .dataframe thead th {\n",
       "        text-align: right;\n",
       "    }\n",
       "</style>\n",
       "<table border=\"1\" class=\"dataframe\">\n",
       "  <thead>\n",
       "    <tr style=\"text-align: right;\">\n",
       "      <th></th>\n",
       "      <th>hours slept</th>\n",
       "    </tr>\n",
       "  </thead>\n",
       "  <tbody>\n",
       "    <tr>\n",
       "      <th>0</th>\n",
       "      <td>7</td>\n",
       "    </tr>\n",
       "    <tr>\n",
       "      <th>1</th>\n",
       "      <td>6</td>\n",
       "    </tr>\n",
       "    <tr>\n",
       "      <th>2</th>\n",
       "      <td>8</td>\n",
       "    </tr>\n",
       "    <tr>\n",
       "      <th>3</th>\n",
       "      <td>4</td>\n",
       "    </tr>\n",
       "    <tr>\n",
       "      <th>4</th>\n",
       "      <td>2</td>\n",
       "    </tr>\n",
       "    <tr>\n",
       "      <th>5</th>\n",
       "      <td>7</td>\n",
       "    </tr>\n",
       "    <tr>\n",
       "      <th>6</th>\n",
       "      <td>6</td>\n",
       "    </tr>\n",
       "    <tr>\n",
       "      <th>7</th>\n",
       "      <td>7</td>\n",
       "    </tr>\n",
       "    <tr>\n",
       "      <th>8</th>\n",
       "      <td>6</td>\n",
       "    </tr>\n",
       "    <tr>\n",
       "      <th>9</th>\n",
       "      <td>5</td>\n",
       "    </tr>\n",
       "  </tbody>\n",
       "</table>\n",
       "</div>"
      ],
      "text/plain": [
       "   hours slept\n",
       "0            7\n",
       "1            6\n",
       "2            8\n",
       "3            4\n",
       "4            2\n",
       "5            7\n",
       "6            6\n",
       "7            7\n",
       "8            6\n",
       "9            5"
      ]
     },
     "metadata": {},
     "output_type": "display_data"
    }
   ],
   "source": [
    "df = pd.DataFrame({\n",
    "    'hours slept': [7,6,8,4,2,7,6,7,6,5]\n",
    "})\n",
    "display(df)"
   ]
  },
  {
   "cell_type": "code",
   "execution_count": 48,
   "metadata": {},
   "outputs": [
    {
     "name": "stdout",
     "output_type": "stream",
     "text": [
      "For random 10-people\n",
      "Mean of hours slept : 5.8 \n",
      "Variance of hours slept: 3.0667 \n",
      "Standard deviation of hours slept: 1.7512\n"
     ]
    }
   ],
   "source": [
    "mean = df['hours slept'].mean()\n",
    "variance = np.var(df['hours slept'], ddof=1)\n",
    "print(\n",
    "    f'For random 10-people'\n",
    "    f'\\nMean of hours slept : {mean}',\n",
    "    f'\\nVariance of hours slept: {variance:.4f}',\n",
    "    f'\\nStandard deviation of hours slept: {variance**0.5:.4f}'\n",
    "    )"
   ]
  },
  {
   "cell_type": "markdown",
   "metadata": {},
   "source": [
    "### 3. Moment Generating Functions"
   ]
  },
  {
   "cell_type": "markdown",
   "metadata": {},
   "source": [
    "#### 3.1. Definition"
   ]
  },
  {
   "cell_type": "markdown",
   "metadata": {},
   "source": [
    "Let *X* be a discrete random variable with probability mass function *f(x)* and space *S*. Then:\n",
    "$$M(t) = E(e^{tX}) = \\sum_{x\\in S}e^{tx}f(x)$$\n",
    "is the **moment generating function** of *X* as long as the summation is finite for some interval of *t* around 0.\n",
    "\n",
    "Taking derivatives of moment generating function w.r.t to t gives:\n",
    "\n",
    "$\\displaystyle \n",
    "M'(t) = \\sum_{x\\in S} xe^{tx}f(x)\\\\[1em]\n",
    "M''(t) = \\sum_{x\\in S} x^2e^{tx}f(x)\\\\[1em]\n",
    "\\qquad \\vdots \\\\[1em]\n",
    "M^n(t) = \\sum_{x\\in S} x^ne^{tx}f(x)\\\\[1em]\n",
    "$\n",
    "\n",
    "Substitutting t = 0 in first derivative expression we get:\n",
    "\n",
    "$\\displaystyle M'(0) = \\sum_{x\\in S} xf(x) = E(X)$\n",
    "\n",
    "We can generalise this expression for any nth derivative and this leads to the conclusion that:\n",
    "\n",
    "$M^{(r)}(0) = E(X^r)$"
   ]
  },
  {
   "cell_type": "markdown",
   "metadata": {},
   "source": [
    "##### 3.1.1. MGF for binomial random variable"
   ]
  },
  {
   "cell_type": "markdown",
   "metadata": {},
   "source": [
    "$$M(t) = E(e^{tX}) = \\sum_{x=0}^n e^{tx} {n\\choose x} p^x (1-p)^{(n-x)} \\\\[1em]\n",
    "= \\sum_{x=0}^n {n\\choose x} (pe^t)^x(1-p)^{(n-x)}\n",
    "$$\n",
    "From binomial expansion we know that $\\displaystyle(a+b)^n = \\sum_{x=0}^n{n\\choose x} b^x a^{(n-x)}$. Comparing with above expression: \n",
    "$$M(t) = [(1-p) + pe^t]^n$$\n",
    "for $-\\infty < t < \\infty$ "
   ]
  },
  {
   "cell_type": "markdown",
   "metadata": {},
   "source": [
    "#### 3.2. Finding Moments"
   ]
  },
  {
   "cell_type": "markdown",
   "metadata": {},
   "source": [
    "- **Mean**: $u = E(X) = M'(0)$\n",
    "- **Variance**: $\\sigma^2 = E(X^2) - [E(X)]^2 = M''(0) - [M'(0)]^2$\n",
    "\n",
    "From previous example we try to find moment generating function for a binomial random variable X:<br><br>\n",
    "$\n",
    "\\Rightarrow M(t) = [(1-p) + pe^t]^n \\\\[1em]\n",
    "\\Rightarrow M'(t) = n[1-p+pe^t]^{(n-1)}(pe^t) \\\\[1em]\n",
    "\\Rightarrow M'(0) = n[1-p+p]^{(n-1)}(p) = np \n",
    "$\n",
    "<br><br>For variance we calculate the second derivative: <br><br>\n",
    "$\n",
    "\\Rightarrow M''(t) = n[1-p+pe^t]^{(n-1)}(pe^t) + (pe^t)n(n-1)n[1-p+pe^t]^{(n-2)}(pe^t) \\\\[1em]\n",
    "\\Rightarrow M''(0) = np + pn(n-1)(p) \\\\[1em]\n",
    "\\Rightarrow M''(0) = np + n^2p^2 - np^2\n",
    "$\n",
    "<br><br>So the expression for variance becomes:<br><br>\n",
    "$\\Rightarrow \\sigma^2 = M''(0) - [M'(0)]^2 \\\\[1em]\n",
    "\\Rightarrow \\sigma^2 = np + n^2p^2 - np^2 - n^2p^2 \\\\[1em]\n",
    "\\Rightarrow \\sigma^2 = np(1-p)$"
   ]
  },
  {
   "cell_type": "markdown",
   "metadata": {},
   "source": [
    "#### 3.3. Finding Distributions"
   ]
  },
  {
   "cell_type": "markdown",
   "metadata": {},
   "source": [
    "A moment-generating function uniquely determines the probability distribution of a random variable.\n",
    "\n",
    "We can express moment generating function as:<br><br>\n",
    "$\\displaystyle M(t) = E(e^{tX}) = \\sigma_{x\\in S}e^{tx} f(x) \\\\[1em]\n",
    "\\Rightarrow M(t) = e^{tb_1}f(b_1) + e^{tb_2}f(b_2) + \\dots\n",
    "$\n",
    "<br><br>Therefore the coefficient of $e^{tb_i}$ is the probability $f(b_i) = P(X=b_i)$.<br>\n",
    "Therefore, the mgf uniquely determines the distribution of a random variable.<br>\n",
    "This property of the mgf is sometimes referred to as the uniqueness property of the mgf."
   ]
  },
  {
   "cell_type": "markdown",
   "metadata": {},
   "source": [
    "##### 3.3.1. Example"
   ]
  },
  {
   "cell_type": "markdown",
   "metadata": {},
   "source": [
    "$M(t) = \\frac{1}{10}e^{t} + \\frac{2}{10}e^{2t} + \\frac{3}{10}e^{3t} + \\frac{4}{10}e^{4t}$\n",
    "<br><br>Than pmf of X is:<br><br>\n",
    "$x = \\begin{cases}\n",
    "\\frac{1}{10},\\; x=1  \\\\\n",
    "\\frac{2}{10},\\; x=2  \\\\\n",
    "\\frac{3}{10},\\; x=3  \\\\\n",
    "\\frac{4}{10},\\; x=4  \\\\\n",
    "\\end{cases}\n",
    "$"
   ]
  },
  {
   "cell_type": "markdown",
   "metadata": {},
   "source": [
    "### 4. Binomial Distribution"
   ]
  },
  {
   "cell_type": "markdown",
   "metadata": {},
   "source": [
    "#### 4.1. Definition"
   ]
  },
  {
   "cell_type": "markdown",
   "metadata": {},
   "source": [
    "A discrete random variable *X* is a binomial random variable if:\n",
    "- An experiment, or trial, is performed in exactly the same way *n* times.\n",
    "- Each of the *n-trials* has only two possible outcomes. One of the outcomes is called a \"success,\" while the other is called a \"failure.\" Such a trial is called a **Bernoulli trial**.\n",
    "- The *n* trials are **independent**.\n",
    "- The probability of success, denoted *p*, is the same for each trial. The probability of failure is *q=1-p*.\n",
    "\n",
    "Probability Mass Function of Binomial Distribution is given as:\n",
    "$$P(x) = {n \\choose x} p^x (1-p)^{(n-x)}$$"
   ]
  },
  {
   "cell_type": "markdown",
   "metadata": {},
   "source": [
    "##### 4.1.1. Example"
   ]
  },
  {
   "cell_type": "markdown",
   "metadata": {},
   "source": [
    "By some estimates, twenty-percent (20%) of Americans have no health insurance. Randomly sample n=15 Americans. Let *X* denote the number in the sample with no health insurance. Find the probability that **at most 5** of the 15 sampled has no health insurance."
   ]
  },
  {
   "cell_type": "code",
   "execution_count": 49,
   "metadata": {},
   "outputs": [
    {
     "name": "stdout",
     "output_type": "stream",
     "text": [
      "Probavility that at most 5 of the 15 sampled people have no health insurance:\n",
      "0.9389\n"
     ]
    }
   ],
   "source": [
    "n, p, x = 15, 0.2, 5\n",
    "probs = []\n",
    "for i in range(x+1):\n",
    "    probs.append(math.comb(n, i)*p**i*(1-p)**(n-i))\n",
    "print(f'Probavility that at most 5 of the 15 sampled people have no health insurance:\\n{np.sum(probs):.4f}')"
   ]
  },
  {
   "cell_type": "markdown",
   "metadata": {},
   "source": [
    "#### 4.2 Effect of n and p on Shape"
   ]
  },
  {
   "cell_type": "code",
   "execution_count": 50,
   "metadata": {},
   "outputs": [],
   "source": [
    "def get_binomial_probabilites(n, p):\n",
    "    probs = []\n",
    "    for i in range(n+1):\n",
    "        probs.append(math.comb(n,i) * p**i * (1-p)**(n-i))\n",
    "    return probs"
   ]
  },
  {
   "cell_type": "markdown",
   "metadata": {},
   "source": [
    "##### 4.2.1 Varying probability of success"
   ]
  },
  {
   "cell_type": "markdown",
   "metadata": {},
   "source": [
    "*Methodology*: We keep *n* small and vary *p*."
   ]
  },
  {
   "cell_type": "code",
   "execution_count": 51,
   "metadata": {},
   "outputs": [
    {
     "data": {
      "text/html": [
       "<div>\n",
       "<style scoped>\n",
       "    .dataframe tbody tr th:only-of-type {\n",
       "        vertical-align: middle;\n",
       "    }\n",
       "\n",
       "    .dataframe tbody tr th {\n",
       "        vertical-align: top;\n",
       "    }\n",
       "\n",
       "    .dataframe thead th {\n",
       "        text-align: right;\n",
       "    }\n",
       "</style>\n",
       "<table border=\"1\" class=\"dataframe\">\n",
       "  <thead>\n",
       "    <tr style=\"text-align: right;\">\n",
       "      <th></th>\n",
       "      <th>0</th>\n",
       "      <th>1</th>\n",
       "      <th>2</th>\n",
       "    </tr>\n",
       "  </thead>\n",
       "  <tbody>\n",
       "    <tr>\n",
       "      <th>n</th>\n",
       "      <td>15.0</td>\n",
       "      <td>15.0</td>\n",
       "      <td>15.0</td>\n",
       "    </tr>\n",
       "    <tr>\n",
       "      <th>p</th>\n",
       "      <td>0.2</td>\n",
       "      <td>0.5</td>\n",
       "      <td>0.8</td>\n",
       "    </tr>\n",
       "  </tbody>\n",
       "</table>\n",
       "</div>"
      ],
      "text/plain": [
       "      0     1     2\n",
       "n  15.0  15.0  15.0\n",
       "p   0.2   0.5   0.8"
      ]
     },
     "metadata": {},
     "output_type": "display_data"
    }
   ],
   "source": [
    "df = pd.DataFrame({\n",
    "    'n':[15, 15, 15],\n",
    "    'p':[0.2, 0.5, 0.8]\n",
    "})\n",
    "display(df.T)"
   ]
  },
  {
   "cell_type": "code",
   "execution_count": 52,
   "metadata": {},
   "outputs": [],
   "source": [
    "all_probs = []\n",
    "for i in range(3):\n",
    "    all_probs.append(get_binomial_probabilites(df['n'][i], df['p'][i]))"
   ]
  },
  {
   "cell_type": "code",
   "execution_count": 53,
   "metadata": {},
   "outputs": [
    {
     "data": {
      "image/png": "[encoded data removed]",
      "text/plain": [
       "<Figure size 1200x300 with 3 Axes>"
      ]
     },
     "metadata": {},
     "output_type": "display_data"
    }
   ],
   "source": [
    "fig = plt.figure(figsize=(12,3), tight_layout=True)\n",
    "fig.suptitle(f'Binomial Distributions for different p values')\n",
    "for i in range(3):\n",
    "    ax  = fig.add_subplot(1,3,i+1)\n",
    "    ax.bar(np.linspace(0, len(all_probs[i]), len(all_probs[i]))+1, all_probs[i])\n",
    "    ax.set_xlabel('X')\n",
    "    ax.set_ylabel('Probability')\n",
    "    ax.set_title(f'n = {df['n'][i]} and p = {df['p'][i]}')"
   ]
  },
  {
   "cell_type": "markdown",
   "metadata": {},
   "source": [
    "**Observations**: (Note that *n* should be small)\n",
    "1. If $p<0.5$, the distribution is **right-skewed**.\n",
    "2. If $p = 0.5$, the distribution is **symmetric**.\n",
    "3. If $p > 0.5$, the distribution is **left skewed**."
   ]
  },
  {
   "cell_type": "markdown",
   "metadata": {},
   "source": [
    "##### 4.2.2 Varying sample size"
   ]
  },
  {
   "cell_type": "code",
   "execution_count": 54,
   "metadata": {},
   "outputs": [
    {
     "data": {
      "text/html": [
       "<div>\n",
       "<style scoped>\n",
       "    .dataframe tbody tr th:only-of-type {\n",
       "        vertical-align: middle;\n",
       "    }\n",
       "\n",
       "    .dataframe tbody tr th {\n",
       "        vertical-align: top;\n",
       "    }\n",
       "\n",
       "    .dataframe thead th {\n",
       "        text-align: right;\n",
       "    }\n",
       "</style>\n",
       "<table border=\"1\" class=\"dataframe\">\n",
       "  <thead>\n",
       "    <tr style=\"text-align: right;\">\n",
       "      <th></th>\n",
       "      <th>0</th>\n",
       "      <th>1</th>\n",
       "      <th>2</th>\n",
       "    </tr>\n",
       "  </thead>\n",
       "  <tbody>\n",
       "    <tr>\n",
       "      <th>n</th>\n",
       "      <td>15.0</td>\n",
       "      <td>50.0</td>\n",
       "      <td>100.0</td>\n",
       "    </tr>\n",
       "    <tr>\n",
       "      <th>p</th>\n",
       "      <td>0.8</td>\n",
       "      <td>0.8</td>\n",
       "      <td>0.8</td>\n",
       "    </tr>\n",
       "  </tbody>\n",
       "</table>\n",
       "</div>"
      ],
      "text/plain": [
       "      0     1      2\n",
       "n  15.0  50.0  100.0\n",
       "p   0.8   0.8    0.8"
      ]
     },
     "metadata": {},
     "output_type": "display_data"
    }
   ],
   "source": [
    "df = pd.DataFrame({\n",
    "    'n':[15, 50, 100],\n",
    "    'p':[0.8, 0.8, 0.8]\n",
    "})\n",
    "display(df.T)"
   ]
  },
  {
   "cell_type": "code",
   "execution_count": 55,
   "metadata": {},
   "outputs": [],
   "source": [
    "all_probs = []\n",
    "for i in range(3):\n",
    "    all_probs.append(get_binomial_probabilites(df['n'][i], df['p'][i]))"
   ]
  },
  {
   "cell_type": "code",
   "execution_count": 56,
   "metadata": {},
   "outputs": [
    {
     "data": {
      "text/plain": [
       "np.float64(0.00863691079679999)"
      ]
     },
     "execution_count": 56,
     "metadata": {},
     "output_type": "execute_result"
    }
   ],
   "source": [
    "np.median(all_probs[0])"
   ]
  },
  {
   "cell_type": "code",
   "execution_count": 57,
   "metadata": {},
   "outputs": [
    {
     "data": {
      "image/png": "[encoded data removed]",
      "text/plain": [
       "<Figure size 1200x300 with 3 Axes>"
      ]
     },
     "metadata": {},
     "output_type": "display_data"
    }
   ],
   "source": [
    "fig = plt.figure(figsize=(12,3), tight_layout=True)\n",
    "fig.suptitle(f'Binomial Distributions for different n values')\n",
    "for i in range(3):\n",
    "    ax  = fig.add_subplot(1,3,i+1)\n",
    "    ax.bar(np.linspace(0, len(all_probs[i]), len(all_probs[i]))+1, all_probs[i])\n",
    "    ax.set_xlabel('X')\n",
    "    ax.set_ylabel('Probability')\n",
    "    ax.set_title(f'n = {df['n'][i]} and p = {df['p'][i]}')"
   ]
  },
  {
   "cell_type": "markdown",
   "metadata": {},
   "source": [
    "**Observation**:\n",
    "- As we increase n the binomial distribution becomes more symmetric.\n",
    "- Also the peak probability in the graph reduces."
   ]
  },
  {
   "cell_type": "markdown",
   "metadata": {},
   "source": [
    "#### 4.3. Mean and Variance"
   ]
  },
  {
   "cell_type": "markdown",
   "metadata": {},
   "source": [
    "##### 4.3.1. Mean"
   ]
  },
  {
   "cell_type": "markdown",
   "metadata": {},
   "source": [
    "If *X* is a binomial random variable, then the mean of X is:<br><br>\n",
    "$\\displaystyle\n",
    "\\mu = E(x) = \\sum_{x=0}^n \\frac{n!}{x!(n-x)!}p^x(1-p)^{(n-x)} \\\\[1em]\n",
    "= \\sum_{x=1}^n \\frac{n!}{(x-1)!(n-x)!}p^x(1-p)^{(n-x)}\n",
    "$\n",
    "<br><br>At $x = 0$ the expression turns to 0, so we eliminate it. Next, we do a change of variable such that $k = x-1$<br><br>\n",
    "$\\displaystyle\n",
    "= \\sum_{k=0}^{n-1} \\frac{n!}{k!(n-1-k)!}p^{(k+1)}(1-p)^{(n-1-k)} \\\\[1em]\n",
    "= np \\sum_{k=0}^{n-1} \\frac{(n-1)!}{k!((n-1)-k)!}p^{k}(1-p)^{((n-1)-k)} \\\\[1em]\n",
    "= np  \\sum_{k=0}^{n-1} f(k) = np\n",
    "$\n",
    "<br><br>where $f(k)$ is probability mass function of Binomial distribution $b(n-1, p)$."
   ]
  },
  {
   "cell_type": "markdown",
   "metadata": {},
   "source": [
    "##### 4.3.2. Variance"
   ]
  },
  {
   "cell_type": "markdown",
   "metadata": {},
   "source": [
    "We try to simplify the expression fo variance, so it becomes easier to get varainces in terms of *n* and *p* <br><br>\n",
    "$\\sigma^2 = E(x^2) - [E(x)]^2 \\\\[1em]\n",
    "= E(x^2) - E(x) + E(x) - [E(x)]^2 \\\\[1em]\n",
    "= E[x(x-1)] + E(x) - [E(x)]^2$\n",
    "<br><br>Now we know $E(x) = np$ and $[E(x)]^2 = n^2p^2$. So we try to simplify first term, note that the indexing has to be $x>2$ otherwise the expression becomes 0. So we substitute $k=x-2$<br><br>\n",
    "$\\displaystyle\n",
    "E(x(x-1)) = \\sum_{k=0}^{n-2} \\frac{n!}{k!(n-2-k)!}p^{(k+2)}(1-p)^{(n-2-k)} \\\\[1em]\n",
    "= n(n-1)p^2 \\sum_{k=0}^{n-2} \\frac{(n-2)!}{k!(n-2-k)!}p^{k}(1-p)^{(n-2-k)} \\\\[1em]\n",
    "= n(n-1)p^2 \\sum_{k=0}^{n-2} f(k) = n(n-1)p^2\n",
    "$\n",
    "<br><br>$f(k)$ is the p.m.f. of binomial distribution $b(n-2, p)$ Now we substitute in orignal equation:<br><br>\n",
    "$\\sigma^2 = n(n-1)p^2 + np - n^2p^2 \\\\[1em]\n",
    "= np - np^2 = np(1-p)\n",
    "$"
   ]
  },
  {
   "cell_type": "markdown",
   "metadata": {},
   "source": [
    "##### 4.3.3. Example"
   ]
  },
  {
   "cell_type": "markdown",
   "metadata": {},
   "source": [
    "The probability that a planted radish seed germinates is 0.80. A gardener plants nine seeds. Let *X* denote the number of radish seeds that successfully germinate? What is the average number of seeds the gardener could expect to germinate? Also What is the variance and standard deviation of *X*?"
   ]
  },
  {
   "cell_type": "code",
   "execution_count": 58,
   "metadata": {},
   "outputs": [
    {
     "name": "stdout",
     "output_type": "stream",
     "text": [
      "Average number of seed that germinate: 7.2 \n",
      "Variance of x: 1.4400 \n",
      "Standard deviation of x: 1.2\n"
     ]
    }
   ],
   "source": [
    "n, p = 9, 0.8\n",
    "print(\n",
    "    f'Average number of seed that germinate: {n*p}',\n",
    "    f'\\nVariance of x: {n*p*(1-p):.4f}',\n",
    "    f'\\nStandard deviation of x: {(n*p*(1-p))**0.5}'\n",
    ")"
   ]
  },
  {
   "cell_type": "markdown",
   "metadata": {},
   "source": [
    "The mean signifies that when the farmer repeats the process of planting 9 seeds a lot of times, the average number of seed germinating would be 7.2, with are deviation of $\\pm 1.2$."
   ]
  },
  {
   "cell_type": "markdown",
   "metadata": {},
   "source": [
    "### 5. Geometric and Negative Binomial Distributions"
   ]
  },
  {
   "cell_type": "markdown",
   "metadata": {},
   "source": [
    "#### 5.1 Geometric Distribution"
   ]
  },
  {
   "cell_type": "markdown",
   "metadata": {},
   "source": [
    "For a geometric distribution following is true:\n",
    "- P(Success) = p, and this stays constant from trial to trial\n",
    "- $X$ repersents the number of trials needed to get the first success.\n",
    "\n",
    "For the first success to occur on the xth trial:\n",
    "1. The first $x-1$ trials must be failures with each trial having a probability of $(1-p)$. Now since we get the success at $xth$ time, the total probability of failure is $(1-p)^{(x-1)}$. \n",
    "\n",
    "2. The $xth$ trial must be a success with a probability *p*.\n",
    "\n",
    "3. So the total probability is $P(X=x) = (1-p)^{(x-1)}p$. This is the probability mass function of geometric distribution.\n",
    "\n",
    "4. Note that $x = 1,2,3,\\dots$. That is x can any value greater than zero with no upper bound.\n",
    "\n",
    "5. The mean is given by $\\mu = \\frac{1}{p}$\n",
    "\n",
    "6. The standard deviation is given by $\\sigma^2 = \\frac{1-p}{p^2}$\n",
    "\n",
    "**Key Understanding**: Geometric Distribution looks at how many trial do we require until we get one passing unit."
   ]
  },
  {
   "cell_type": "markdown",
   "metadata": {},
   "source": [
    "##### 5.1.1. Example"
   ]
  },
  {
   "cell_type": "markdown",
   "metadata": {},
   "source": [
    "*Example:* In a large population of adults, 30% people have recieved CPR training.\n",
    "If adults from this population are randomly selected, what is the probability that the 6th person sampled is the first that have recieved CPR training."
   ]
  },
  {
   "cell_type": "code",
   "execution_count": 59,
   "metadata": {},
   "outputs": [
    {
     "name": "stdout",
     "output_type": "stream",
     "text": [
      "Probability that 6th person selected is the first one with CPR training:\n",
      "0.0504 \n",
      "Mean: 3.3333 \n",
      "Standard deviation: 2.7889\n"
     ]
    }
   ],
   "source": [
    "p, x = 0.3, 6\n",
    "print(\n",
    "    f'Probability that 6th person selected is the first one with CPR training:\\n{(1-p)**(x-1)*p:.4f}',\n",
    "    f'\\nMean: {1/p:.4f}',\n",
    "    f'\\nStandard deviation: {((1-p)/p**2)**0.5:.4f}'\n",
    "    )"
   ]
  },
  {
   "cell_type": "code",
   "execution_count": 60,
   "metadata": {},
   "outputs": [],
   "source": [
    "probs = []\n",
    "for i in range(15):\n",
    "    probs.append((1-p)**(i-1) * p)"
   ]
  },
  {
   "cell_type": "code",
   "execution_count": 61,
   "metadata": {},
   "outputs": [
    {
     "data": {
      "image/png": "[encoded data removed]",
      "text/plain": [
       "<Figure size 800x300 with 1 Axes>"
      ]
     },
     "metadata": {},
     "output_type": "display_data"
    }
   ],
   "source": [
    "fig = plt.figure(figsize=(8,3))\n",
    "ax = fig.add_subplot(1,1,1)\n",
    "ax.bar(np.arange(0, 15, 1), probs)\n",
    "ax.axvline(1/p, color='yellow', ls='--')\n",
    "\n",
    "# plot labels\n",
    "ax.set_xlabel('Trials Needed to get the First Success')\n",
    "ax.set_ylabel('Probability')\n",
    "ax.set_title('Geometric Distribution')\n",
    "\n",
    "# Annotations\n",
    "ax.annotate('The minimum value is 1', xy=(0,0), xytext=(0, -0.12), color='yellow', arrowprops={'color':'yellow','width':0.2, 'headwidth': 5})\n",
    "ax.annotate('There is no maximum value',  xy=(14,0), xytext=(10, 0.2), color='yellow', arrowprops={'color':'yellow','width':0.2, 'headwidth': 5})\n",
    "ax.annotate('Mean',  xy=(3.33,0.3), xytext=(4, 0.35), color='yellow', arrowprops={'color':'yellow','width':0.2, 'headwidth': 5});"
   ]
  },
  {
   "cell_type": "markdown",
   "metadata": {},
   "source": [
    "**Observation**:\n",
    "- Mode of the distribution is always 1.\n",
    "- The probabilites always decrease, showing right skewness."
   ]
  },
  {
   "cell_type": "markdown",
   "metadata": {},
   "source": [
    "Example: What is the probability that the first person trained in CPR occurs on or before the 3rd people sampled?<br><br>\n",
    "Solution: The probability would simply be the sum of finding the person with training as the first, second or third person:<br><br>\n",
    "$P(X\\leq 3) = P(X=1) + P(X=2) + P(X=3)$ <br><br>\n",
    "Yet this could become computationally heavy if we had to do for lots more probabilities. An easier way would be to do the reverse scenario. That is we would like to find the probabilty of not finding no people with training before 3 (i.e. 3 failures).\n"
   ]
  },
  {
   "cell_type": "code",
   "execution_count": 62,
   "metadata": {},
   "outputs": [
    {
     "name": "stdout",
     "output_type": "stream",
     "text": [
      "Probability that the first person trained in CPR occurs on or before the 3rd people sampled:\n",
      "0.657 \n",
      "1 - P(X>3) : 0.657\n"
     ]
    }
   ],
   "source": [
    "temp = []\n",
    "for i in range(1, 4):\n",
    "    temp.append((1-p)**(i-1)*p)\n",
    "\n",
    "print(\n",
    "    f'Probability that the first person trained in CPR occurs on or before the 3rd people sampled:\\n{np.sum(temp)}',\n",
    "    f'\\n1 - P(X>3) : {1-(1-p)**3}'\n",
    ")"
   ]
  },
  {
   "cell_type": "markdown",
   "metadata": {},
   "source": [
    "From above example we can intuitvely conculude that probability of cumulative distribution is:\n",
    "\n",
    "$F(x) = P(X\\leq x) = 1 - (1-p)^x$"
   ]
  },
  {
   "cell_type": "markdown",
   "metadata": {},
   "source": [
    "#### 5.2 Negative Binomial Distribution"
   ]
  },
  {
   "cell_type": "markdown",
   "metadata": {},
   "source": [
    "**Key Idea**: The negative binomial distribution is the distribution of the number of trials needed to get the rth success.\n",
    "\n",
    "For the rth success to occur on the xth trial:\n",
    "- The first $x-1$ trials must result in $r-1$ successes.<br><br>\n",
    "$ {x-1\\choose r-1} p^{(r-1)} (1-p)^{(x-1) - (r-1)} $\n",
    "\n",
    "- The xth trial must be a success, which has a probability of $p$.\n",
    "\n",
    "- The **probability mass function** is the product of above two probabilites:<br><br>\n",
    "$P(X=x) = {x-1\\choose r-1} p^r (1-p)^{(x-r)}$\n",
    "<br><br>for $x = r, r+1, \\dots$, with no upper bound.\n",
    "\n",
    "- The **mean** of negative binomial distribution is given as:<br><br>\n",
    "$\\mu = \\frac{r}{p}$\n",
    "\n",
    "- The **variance** of of negative binomial distribution is given as:<br><br>\n",
    "$\\sigma^2 = \\frac{r(1-p)}{p^2}$\n",
    "\n",
    "- The **moment generating function** of a negative binomial random variable *X* is:<br><br>\n",
    "$M(t) = \\frac{(pe^t)^r}{[1-(1-p)e^t]^r}$"
   ]
  },
  {
   "cell_type": "markdown",
   "metadata": {},
   "source": [
    "##### 5.2.1. Example"
   ]
  },
  {
   "cell_type": "markdown",
   "metadata": {},
   "source": [
    "A person conducting telephone surveys must get 3 more completed surveys before their job is finished.\n",
    "\n",
    "On each randomly dialed number, there is a 9% chance of reaching an adult who will complete the survey.\n",
    "\n",
    "What is the probability the 3rd completed survey occurs on the 10th call."
   ]
  },
  {
   "cell_type": "code",
   "execution_count": 63,
   "metadata": {},
   "outputs": [
    {
     "name": "stdout",
     "output_type": "stream",
     "text": [
      "Probability the 3rd completed survey occurs on the 10th call:\n",
      "0.0136 \n",
      "Mean: 33.3333 \n",
      "Standard Deviation: 18.3586\n"
     ]
    }
   ],
   "source": [
    "r, p, x = 3, 0.09, 10\n",
    "print(\n",
    "    f'Probability the 3rd completed survey occurs on the 10th call:\\n{math.comb(x-1, r-1)*p**r * (1-p)**(x-r):.4f}',\n",
    "    f'\\nMean: {r/p:.4f}',\n",
    "    f'\\nStandard Deviation: {(r*(1-p)/p**2)**0.5:.4f}'\n",
    ")"
   ]
  },
  {
   "cell_type": "code",
   "execution_count": 64,
   "metadata": {},
   "outputs": [],
   "source": [
    "probs = []\n",
    "for i in range(3, 101):\n",
    "    probs.append(math.comb(i-1, r-1) * p**r * (1-p)**(i-r))"
   ]
  },
  {
   "cell_type": "code",
   "execution_count": 65,
   "metadata": {},
   "outputs": [
    {
     "data": {
      "image/png": "[encoded data removed]",
      "text/plain": [
       "<Figure size 800x300 with 1 Axes>"
      ]
     },
     "metadata": {},
     "output_type": "display_data"
    }
   ],
   "source": [
    "fig = plt.figure(figsize=(8,3))\n",
    "ax = fig.add_subplot(1,1,1)\n",
    "ax.bar(np.arange(3, 101, 1), probs)\n",
    "ax.axvline(r/p, color='yellow', ls = '--')\n",
    "\n",
    "# plot labels\n",
    "ax.set_xlabel('Number of calls')\n",
    "ax.set_ylabel('Probability')\n",
    "ax.set_title('Negative Binomial Distribution')\n",
    "\n",
    "# Annotations\n",
    "ax.annotate(f'minimum value ({r})', (3,0), (1, -0.005), color='yellow', arrowprops={'headwidth':5.0, 'width':0.5, 'color':'yellow'})\n",
    "ax.annotate('maximum value (no bound)', (100,0), (65, -0.005), color='yellow', arrowprops={'headwidth':5.0, 'width':0.5, 'color':'yellow'})\n",
    "ax.annotate('Mean', (r/p,0.020), (40, 0.022), color='yellow', arrowprops={'headwidth':5.0, 'width':0.5, 'color':'yellow'});"
   ]
  },
  {
   "cell_type": "markdown",
   "metadata": {},
   "source": [
    "### 6. Poisson Distribution"
   ]
  },
  {
   "cell_type": "markdown",
   "metadata": {},
   "source": [
    "#### 6.1. Definition"
   ]
  },
  {
   "cell_type": "markdown",
   "metadata": {},
   "source": [
    "Suppose\n",
    "- Events are occuring independently\n",
    "- The probability that an event occurs in a given length of time does not change through time.\n",
    "\n",
    "Then *X*, the number of events in a fixed unit of time, has a **Poisson Distribution**. <br>\n",
    "The Poisson probability mass function is given as:\n",
    "\n",
    "$P(X=x) = \\frac{\\lambda^x e^{-\\lambda}}{x!}$\n",
    "\n",
    "for $x = 0,1,2,\\dots$. For higher x probability would reduce close to zero.\n",
    "\n",
    "Properties: \n",
    "- For Poisson distribution the **mean** as well as **variance** is $\\mu = \\sigma^2 = \\lambda$.\n",
    "\n",
    "- **Moment Generating function** of a Poisson random variable *X* is :<br>\n",
    "$M(t) = e^{\\lambda(e^t-1)}$ for $-\\infty < t < \\infty$ "
   ]
  },
  {
   "cell_type": "markdown",
   "metadata": {},
   "source": [
    "##### 6.1.1. Example"
   ]
  },
  {
   "cell_type": "markdown",
   "metadata": {},
   "source": [
    "The number of click-through sales from an advertisement is Poisson distributed with a mean of 12-click through sales per day. Find the probability of getting:<br>\n",
    "a. Exactly 10 click-thorugh sales in the first day.<br>\n",
    "b. At leats 10 click throught sales in the first day.<br>\n",
    "c. More than one sales in the first hour.<br>\n",
    "\n",
    "Solution <br><br>\n",
    "a. P(X=10)=\n"
   ]
  },
  {
   "cell_type": "code",
   "execution_count": 66,
   "metadata": {},
   "outputs": [
    {
     "name": "stdout",
     "output_type": "stream",
     "text": [
      "P(10 click through sales in the first day): 0.1048\n"
     ]
    }
   ],
   "source": [
    "l, x = 12, 10\n",
    "print(\n",
    "    f'P(10 click through sales in the first day): {l**x*math.exp(-l)/math.factorial(x):.4f}'\n",
    ")"
   ]
  },
  {
   "cell_type": "markdown",
   "metadata": {},
   "source": [
    "b. We cannot directly calculate $P(X\\geq 10)$ since x has upper bound of $\\infty$. So we calculate the following <br><br>\n",
    "$1 - P(X<10) = 1 - (P(1) + \\dots + P(9))$"
   ]
  },
  {
   "cell_type": "code",
   "execution_count": 67,
   "metadata": {},
   "outputs": [
    {
     "name": "stdout",
     "output_type": "stream",
     "text": [
      "P(At least 10 click-through sales on the first day): 0.7576\n"
     ]
    }
   ],
   "source": [
    "probs = []\n",
    "for x in range(10):\n",
    "    probs.append(l**x * math.exp(-l)/math.factorial(x))\n",
    "\n",
    "print(f'P(At least 10 click-through sales on the first day): {1-sum(probs):.4f}')"
   ]
  },
  {
   "cell_type": "markdown",
   "metadata": {},
   "source": [
    "c. Since the data is from Poisson Distribution sales per hour = $\\lambda = \\frac{12}{24} = 0.5$. And similar to last case $P(X>1) = 1-P(X\\leq 1)$"
   ]
  },
  {
   "cell_type": "code",
   "execution_count": 68,
   "metadata": {},
   "outputs": [
    {
     "name": "stdout",
     "output_type": "stream",
     "text": [
      "P(More than 1 click-through sale on the fist hour): 0.0902\n"
     ]
    }
   ],
   "source": [
    "l = 0.5\n",
    "probs = []\n",
    "for x in range(2):\n",
    "    probs.append(l**x * math.exp(-l)/math.factorial(x))\n",
    "\n",
    "print(f'P(More than 1 click-through sale on the fist hour): {1-sum(probs):.4f}')"
   ]
  },
  {
   "cell_type": "markdown",
   "metadata": {},
   "source": [
    "Important thing to consider here is the above example is not exactly a Poisson distribution, since the rate at which event occurs is not constant. That is the number of click through sales will definitely not the same per hourly basis. There will be some peak hours while some dead hours. "
   ]
  },
  {
   "cell_type": "code",
   "execution_count": 69,
   "metadata": {},
   "outputs": [],
   "source": [
    "def get_poisson_probabilities(l):\n",
    "    probs = []\n",
    "    for x in range(10):\n",
    "        probs.append(l**x * math.exp(-l)/math.factorial(x))\n",
    "    return probs\n",
    "\n",
    "all_probs = []\n",
    "l = [2,5,10]\n",
    "for i in l:\n",
    "    all_probs.append(get_poisson_probabilities(i))"
   ]
  },
  {
   "cell_type": "code",
   "execution_count": 70,
   "metadata": {},
   "outputs": [
    {
     "data": {
      "image/png": "[encoded data removed]",
      "text/plain": [
       "<Figure size 1200x300 with 3 Axes>"
      ]
     },
     "metadata": {},
     "output_type": "display_data"
    }
   ],
   "source": [
    "fig = plt.figure(figsize=(12,3), tight_layout=True)\n",
    "fig.suptitle(r'Poisson distribution for different $\\lambda$s')\n",
    "\n",
    "for i in range(3):\n",
    "    ax = fig.add_subplot(1,3,i+1)\n",
    "    ax.bar(np.arange(0,10,1), all_probs[i])\n",
    "    ax.set_title(r'$\\lambda = ${}'.format(l[i]))\n",
    "    ax.set_xlabel('X')\n",
    "    ax.set_ylabel('P(X)')"
   ]
  },
  {
   "cell_type": "markdown",
   "metadata": {},
   "source": [
    "Observations:\n",
    "- For $\\lambda < X_{mean}$ the Poisson distribution is *right-skewed*.\n",
    "- For $\\lambda = X_{mean}$ the Poisson distribution is *symmetric*.\n",
    "- For $\\lambda > X_{mean}$ the Poisson distribution is *left-skewed*."
   ]
  },
  {
   "cell_type": "markdown",
   "metadata": {},
   "source": [
    "#### 6.2 Approximating the Binomial Distribution"
   ]
  },
  {
   "cell_type": "markdown",
   "metadata": {},
   "source": [
    "Poisson distribution acts as an approximation to Binomial distribution if *n* is large and *p* is small."
   ]
  },
  {
   "cell_type": "markdown",
   "metadata": {},
   "source": [
    "##### 6.2.1 Example"
   ]
  },
  {
   "cell_type": "markdown",
   "metadata": {},
   "source": [
    "5% of a product are found to be defective. What is the probability of finding atmost three defective products in a sample of 100 random products.\n",
    "\n",
    "Solution:<br>\n",
    "We first solve problem using p.m.f of binomial distribution where $n=100$ and $p=0.05$. $P(X\\leq 3)=$"
   ]
  },
  {
   "cell_type": "code",
   "execution_count": 71,
   "metadata": {},
   "outputs": [
    {
     "name": "stdout",
     "output_type": "stream",
     "text": [
      "Using binomial p.m.f.\n",
      "P(at most 3 products are defective): 0.2578\n"
     ]
    }
   ],
   "source": [
    "n, p = 100, 0.05\n",
    "probs = []\n",
    "for i in range(4):\n",
    "    probs.append(math.comb(n,i)*p**i*(1-p)**(n-i))\n",
    "    \n",
    "print(f'Using binomial p.m.f.\\nP(at most 3 products are defective): {sum(probs):.4f}')"
   ]
  },
  {
   "cell_type": "markdown",
   "metadata": {},
   "source": [
    "To solve using p.m.f of Poisson distribution we have to first calculate $\\lambda$. We know that for both distributions mean would be same, i.e. $\\lambda = np$"
   ]
  },
  {
   "cell_type": "code",
   "execution_count": 72,
   "metadata": {},
   "outputs": [
    {
     "name": "stdout",
     "output_type": "stream",
     "text": [
      "Using Poisson p.m.f.\n",
      "P(at most 3 products are defective): 0.2650\n"
     ]
    }
   ],
   "source": [
    "l = n*p\n",
    "probs = []\n",
    "for x in range(4):\n",
    "    probs.append(l**x * math.exp(-l)/math.factorial(x))\n",
    "print(f'Using Poisson p.m.f.\\nP(at most 3 products are defective): {sum(probs):.4f}')"
   ]
  }
 ],
 "metadata": {
  "kernelspec": {
   "display_name": "dl",
   "language": "python",
   "name": "python3"
  },
  "language_info": {
   "codemirror_mode": {
    "name": "ipython",
    "version": 3
   },
   "file_extension": ".py",
   "mimetype": "text/x-python",
   "name": "python",
   "nbconvert_exporter": "python",
   "pygments_lexer": "ipython3",
   "version": "3.12.7"
  }
 },
 "nbformat": 4,
 "nbformat_minor": 2
}
