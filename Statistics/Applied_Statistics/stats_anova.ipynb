{
 "cells": [
  {
   "cell_type": "code",
   "execution_count": 1,
   "metadata": {},
   "outputs": [],
   "source": [
    "import numpy as np\n",
    "import scipy as sc\n",
    "import matplotlib.pyplot as plt\n",
    "import pandas as pd\n",
    "plt.style.use('rose-pine-moon')\n",
    "%matplotlib inline"
   ]
  },
  {
   "cell_type": "markdown",
   "metadata": {},
   "source": [
    "Resource: [Stat Trek | ANOVA Tutorial](https://stattrek.com/tutorials/anova-tutorial?tutorial=anova)"
   ]
  },
  {
   "cell_type": "markdown",
   "metadata": {},
   "source": [
    "## ANOVA"
   ]
  },
  {
   "cell_type": "markdown",
   "metadata": {},
   "source": [
    "### 1. One-way ANOVA"
   ]
  },
  {
   "cell_type": "markdown",
   "metadata": {},
   "source": [
    "#### 1.1. Theory"
   ]
  },
  {
   "cell_type": "markdown",
   "metadata": {},
   "source": [
    "##### 1.1.1. Definition"
   ]
  },
  {
   "cell_type": "markdown",
   "metadata": {},
   "source": [
    "- **Analysis of variance** refers to a set of techniques for comparing sample statistics (means, proportions, etc.) among two or more groups. \n",
    "\n",
    "- If the comparison reveals a statistically significant difference, then we can conclude that the corresponding population parameters in one or more groups are different.\n",
    "\n",
    "- Analysis of variance can be used when the dependent variable in an experiment is measured on an **interval scale** or a **ratio scale** (not categorical scale). "
   ]
  },
  {
   "cell_type": "markdown",
   "metadata": {},
   "source": [
    "##### 1.1.2. Assumptions"
   ]
  },
  {
   "cell_type": "markdown",
   "metadata": {},
   "source": [
    "Before performing ANOVA, we have to assume the following:\n",
    "1. **Independence**: Each observation is independent of the others.\n",
    "2. **Normality**: The data are normally distributed within each group.\n",
    "3. **Homogeneity of variance**: The variance is equal across all groups."
   ]
  },
  {
   "cell_type": "markdown",
   "metadata": {},
   "source": [
    "#### 1.2. Step by Step Process"
   ]
  },
  {
   "cell_type": "markdown",
   "metadata": {},
   "source": [
    "##### 1.2.1. Nomenclature"
   ]
  },
  {
   "cell_type": "markdown",
   "metadata": {},
   "source": [
    "- $n:$ Number of values in group.\n",
    "\n",
    "- $n_j:$ Number of subjects assigned to Group j.\n",
    "\n",
    "- $k:$ Number of treatment groups.\n",
    "\n",
    "- $X_{ij}:$ Dependent variable score for the ith subject in Group j."
   ]
  },
  {
   "cell_type": "markdown",
   "metadata": {},
   "source": [
    "##### 1.2.2. Mean Scores"
   ]
  },
  {
   "cell_type": "markdown",
   "metadata": {},
   "source": [
    "Analysis of variance begins by computing a grand mean and group means: \n",
    "1. **Grand Mean**:\n",
    "\n",
    "$$\n",
    "n = \\sum_{j=1}^k n_j \\\\[5pt]\n",
    "\\bar x = \\frac{1}{n} \\sum_{j=1}^k \\sum_{i=1}^{n_j} (x_{ij})$$\n",
    "\n",
    "2. **Group Mean**: \n",
    "\n",
    "$$ \\bar x_{j} = \\frac{1}{n_j} \\sum_{j=1}^{n_j} x_{ij}$$ "
   ]
  },
  {
   "cell_type": "markdown",
   "metadata": {},
   "source": [
    "##### 1.2.3. Sum of Squares"
   ]
  },
  {
   "cell_type": "markdown",
   "metadata": {},
   "source": [
    "1. **Between groups sum of squares:**\n",
    "$$ \\text{SSB} = \\sum_{j=1}^{k} \\sum_{i=1}^{n_j} (\\bar{x_j} - \\bar{x})^2 = \\sum_{j=1}^{k}n_j(\\bar{x_j} - \\bar{x})^2$$\n",
    "\n",
    "2. **Within-groups sum of squares**: Variation of all scores around their respective group means. \n",
    "$$\\text{SSW} = \\sum_{j=1}^{k} \\sum_{i=1}^{n_j} (x_{ij} - \\bar{x_j})^2$$\n",
    "\n",
    "3. **Total sum of squares**: Variation of all scores around the grand mean. \n",
    "$$\\text{SST} = \\sum_{j=1}^{k} \\sum_{i=1}^{n_j} (x_{ij} - \\bar{x})^2$$\n",
    "\n",
    "\n",
    "$\\text{SST = SSB + SSW}$"
   ]
  },
  {
   "cell_type": "markdown",
   "metadata": {},
   "source": [
    "##### 1.2.4. Degrees of Freedom"
   ]
  },
  {
   "cell_type": "markdown",
   "metadata": {},
   "source": [
    "| Sum of Squares | Degrees of freedom |\n",
    "| --- | --- | \n",
    "| Between groups | k - 1 |\n",
    "| Within groups | n - k |\n",
    "| Total | n - 1 |"
   ]
  },
  {
   "cell_type": "markdown",
   "metadata": {},
   "source": [
    "##### 1.2.5. Mean Squares"
   ]
  },
  {
   "cell_type": "markdown",
   "metadata": {},
   "source": [
    "1. **Within-groups mean square:**\n",
    "$$\\text{MS}_{WG} = \\frac{\\text{SSW}}{\\text{df}_{WG}}$$\n",
    "\n",
    "2. **Between groups mean square:**\n",
    "$$\\text{MS}_{BG} = \\frac{\\text{SSB}}{\\text{df}_{BG}}$$"
   ]
  },
  {
   "cell_type": "markdown",
   "metadata": {},
   "source": [
    "##### 1.2.6. Test Statistic"
   ]
  },
  {
   "cell_type": "markdown",
   "metadata": {},
   "source": [
    "Test Statistic/F-statisitic:\n",
    "$$F(v_1,v_2) = \\frac{\\text{Variance between groups}}{\\text{Variance within groups}} = \n",
    "\\frac{\\text{MS}_{\\text{BG}}}{\\text{MS}_{\\text{WG}}}$$\n",
    "\n",
    "Some inference we can make based on the formula:\n",
    "- When the F ratio is close to one, $\\text{MS}_{\\text{BG}}$ is approximately equal to $\\text{MS}_{\\text{WG}}$. This indicates that the independent variable did not affect the dependent variable, so we cannot reject the null hypothesis. \n",
    "\n",
    "- When the F ratio is significantly greater than one, $\\text{MS}_{\\text{BG}}$ is bigger than $\\text{MS}_{\\text{WG}}$. This indicates that the independent variable did  affect the dependent variable, so we must reject the null hypothesis. \n",
    "\n",
    "- The F ratio is a random variable that has an F distribution and so we compute p-value. Comparing it to a significance level helps in rejecting or accepting null hypothesis."
   ]
  },
  {
   "cell_type": "markdown",
   "metadata": {},
   "source": [
    "##### 1.2.7. Example"
   ]
  },
  {
   "cell_type": "markdown",
   "metadata": {},
   "source": [
    "Consider the following of studying effect of three different drug dosage on cholesterol levels."
   ]
  },
  {
   "cell_type": "code",
   "execution_count": 2,
   "metadata": {},
   "outputs": [
    {
     "data": {
      "text/html": [
       "<div>\n",
       "<style scoped>\n",
       "    .dataframe tbody tr th:only-of-type {\n",
       "        vertical-align: middle;\n",
       "    }\n",
       "\n",
       "    .dataframe tbody tr th {\n",
       "        vertical-align: top;\n",
       "    }\n",
       "\n",
       "    .dataframe thead th {\n",
       "        text-align: right;\n",
       "    }\n",
       "</style>\n",
       "<table border=\"1\" class=\"dataframe\">\n",
       "  <thead>\n",
       "    <tr style=\"text-align: right;\">\n",
       "      <th></th>\n",
       "      <th>Group 1, 0mg</th>\n",
       "      <th>Group 2, 50mg</th>\n",
       "      <th>Group 3, 100mg</th>\n",
       "    </tr>\n",
       "  </thead>\n",
       "  <tbody>\n",
       "    <tr>\n",
       "      <th>0</th>\n",
       "      <td>210</td>\n",
       "      <td>210</td>\n",
       "      <td>180</td>\n",
       "    </tr>\n",
       "    <tr>\n",
       "      <th>1</th>\n",
       "      <td>240</td>\n",
       "      <td>240</td>\n",
       "      <td>210</td>\n",
       "    </tr>\n",
       "    <tr>\n",
       "      <th>2</th>\n",
       "      <td>270</td>\n",
       "      <td>240</td>\n",
       "      <td>210</td>\n",
       "    </tr>\n",
       "    <tr>\n",
       "      <th>3</th>\n",
       "      <td>270</td>\n",
       "      <td>270</td>\n",
       "      <td>210</td>\n",
       "    </tr>\n",
       "    <tr>\n",
       "      <th>4</th>\n",
       "      <td>300</td>\n",
       "      <td>270</td>\n",
       "      <td>240</td>\n",
       "    </tr>\n",
       "  </tbody>\n",
       "</table>\n",
       "</div>"
      ],
      "text/plain": [
       "   Group 1, 0mg  Group 2, 50mg  Group 3, 100mg\n",
       "0           210            210             180\n",
       "1           240            240             210\n",
       "2           270            240             210\n",
       "3           270            270             210\n",
       "4           300            270             240"
      ]
     },
     "execution_count": 2,
     "metadata": {},
     "output_type": "execute_result"
    }
   ],
   "source": [
    "df = pd.DataFrame({\n",
    "    'Group 1, 0mg':[210, 240, 270, 270, 300],\n",
    "    'Group 2, 50mg':[210,240,240,270,270],\n",
    "    'Group 3, 100mg':[180,210,210,210,240]\n",
    "})\n",
    "df"
   ]
  },
  {
   "cell_type": "markdown",
   "metadata": {},
   "source": [
    "Tests For normality"
   ]
  },
  {
   "cell_type": "code",
   "execution_count": 3,
   "metadata": {},
   "outputs": [
    {
     "data": {
      "text/html": [
       "<div>\n",
       "<style scoped>\n",
       "    .dataframe tbody tr th:only-of-type {\n",
       "        vertical-align: middle;\n",
       "    }\n",
       "\n",
       "    .dataframe tbody tr th {\n",
       "        vertical-align: top;\n",
       "    }\n",
       "\n",
       "    .dataframe thead th {\n",
       "        text-align: right;\n",
       "    }\n",
       "</style>\n",
       "<table border=\"1\" class=\"dataframe\">\n",
       "  <thead>\n",
       "    <tr style=\"text-align: right;\">\n",
       "      <th></th>\n",
       "      <th>Group 1, 0mg</th>\n",
       "      <th>Group 2, 50mg</th>\n",
       "      <th>Group 3, 100mg</th>\n",
       "    </tr>\n",
       "  </thead>\n",
       "  <tbody>\n",
       "    <tr>\n",
       "      <th>Mean</th>\n",
       "      <td>258.000000</td>\n",
       "      <td>246.000000</td>\n",
       "      <td>210.0</td>\n",
       "    </tr>\n",
       "    <tr>\n",
       "      <th>Median</th>\n",
       "      <td>270.000000</td>\n",
       "      <td>240.000000</td>\n",
       "      <td>210.0</td>\n",
       "    </tr>\n",
       "    <tr>\n",
       "      <th>Range</th>\n",
       "      <td>90.000000</td>\n",
       "      <td>60.000000</td>\n",
       "      <td>60.0</td>\n",
       "    </tr>\n",
       "    <tr>\n",
       "      <th>Skew</th>\n",
       "      <td>-0.271545</td>\n",
       "      <td>-0.343622</td>\n",
       "      <td>0.0</td>\n",
       "    </tr>\n",
       "    <tr>\n",
       "      <th>kurtosis</th>\n",
       "      <td>-1.044379</td>\n",
       "      <td>-1.153061</td>\n",
       "      <td>-0.5</td>\n",
       "    </tr>\n",
       "  </tbody>\n",
       "</table>\n",
       "</div>"
      ],
      "text/plain": [
       "          Group 1, 0mg  Group 2, 50mg  Group 3, 100mg\n",
       "Mean        258.000000     246.000000           210.0\n",
       "Median      270.000000     240.000000           210.0\n",
       "Range        90.000000      60.000000            60.0\n",
       "Skew         -0.271545      -0.343622             0.0\n",
       "kurtosis     -1.044379      -1.153061            -0.5"
      ]
     },
     "execution_count": 3,
     "metadata": {},
     "output_type": "execute_result"
    }
   ],
   "source": [
    "data = df.to_numpy()\n",
    "diag = pd.DataFrame({\n",
    "    'Mean': np.mean(data, axis=0),\n",
    "    'Median': np.median(data, axis=0),\n",
    "    'Range': np.max(data,axis=0) - np.min(data, axis=0),\n",
    "    'Skew': sc.stats.skew(data, axis=0),\n",
    "    'kurtosis': sc.stats.kurtosis(data, axis=0)\n",
    "})\n",
    "diag.index = df.columns\n",
    "diag.T"
   ]
  },
  {
   "cell_type": "markdown",
   "metadata": {},
   "source": [
    "- In all three groups, the difference between the mean and median looks small (relative to the range).\n",
    "- Skewness is close to 0\n",
    "- Kurtosis is almost in range -1 to 1."
   ]
  },
  {
   "cell_type": "code",
   "execution_count": 4,
   "metadata": {},
   "outputs": [
    {
     "data": {
      "image/png": "[encoded data removed]",
      "text/plain": [
       "<Figure size 1200x300 with 3 Axes>"
      ]
     },
     "metadata": {},
     "output_type": "display_data"
    }
   ],
   "source": [
    "sorted_data = np.sort(data, axis=0)\n",
    "sorted_data = (sorted_data - np.mean(sorted_data, axis=0))/np.std(sorted_data, axis=0)\n",
    "norm = sc.stats.norm(0,1)\n",
    "\n",
    "fig  = plt.figure(figsize=(12,3))\n",
    "fig.suptitle('QQ plots')\n",
    "for i in range(3):\n",
    "    pt = norm.ppf(np.linspace(0.001, 0.999, data.shape[0]))\n",
    "    ps = np.percentile(sorted_data[:,i], np.linspace(0, 100, data.shape[0]))\n",
    "    ax = fig.add_subplot(1,3,i+1)\n",
    "    ax.plot(pt,pt)\n",
    "    ax.scatter(pt, ps, color='cyan')"
   ]
  },
  {
   "cell_type": "markdown",
   "metadata": {},
   "source": [
    "Computing Global and Group Means"
   ]
  },
  {
   "cell_type": "code",
   "execution_count": 5,
   "metadata": {},
   "outputs": [
    {
     "name": "stdout",
     "output_type": "stream",
     "text": [
      "Mean of groups: [258. 246. 210.] \n",
      "Mean of all data: 238.0000\n"
     ]
    }
   ],
   "source": [
    "data = df.to_numpy()\n",
    "\n",
    "group_mean = np.mean(data, axis=0)\n",
    "global_mean = np.mean(group_mean)\n",
    "print(\n",
    "    f'Mean of groups: {group_mean}',\n",
    "    f'\\nMean of all data: {global_mean:.4f}'\n",
    "    )"
   ]
  },
  {
   "cell_type": "markdown",
   "metadata": {},
   "source": [
    "Computing sum of squares"
   ]
  },
  {
   "cell_type": "code",
   "execution_count": 6,
   "metadata": {},
   "outputs": [
    {
     "name": "stdout",
     "output_type": "stream",
     "text": [
      "Sum of squares between the groups: 6240.0000 \n",
      "Sum of squares within the group: 9000.0000 \n",
      "Total sum of squares: 15240.00\n"
     ]
    }
   ],
   "source": [
    "# sum of squares between group\n",
    "ss_btw = np.sum(data.shape[0]*(group_mean - global_mean)**2)\n",
    "\n",
    "# sum of squares within group\n",
    "ss_wi = np.sum((data-group_mean)**2)\n",
    "\n",
    "# total sum of squares\n",
    "ss_t = np.sum((data-global_mean)**2)\n",
    "print(\n",
    "    f'Sum of squares between the groups: {ss_btw:.4f}',\n",
    "    f'\\nSum of squares within the group: {ss_wi:.4f}',\n",
    "    f'\\nTotal sum of squares: {ss_t:.2f}'\n",
    ")"
   ]
  },
  {
   "cell_type": "markdown",
   "metadata": {},
   "source": [
    "Computing Mean of sum of squares"
   ]
  },
  {
   "cell_type": "code",
   "execution_count": 7,
   "metadata": {},
   "outputs": [
    {
     "name": "stdout",
     "output_type": "stream",
     "text": [
      "Between-groups Degrees of freedom: 2 \n",
      "Within groups degrees of freedom: 12\n",
      "Mean of Sum of squares between the groups: 3120.0000 \n",
      "Mean of Sum of squares within the group: 750.0000\n"
     ]
    }
   ],
   "source": [
    "df_btw = data.shape[1] - 1\n",
    "df_wi = (data.shape[0]-1)*data.shape[1] \n",
    "\n",
    "mean_ss_btw = ss_btw / df_btw\n",
    "mean_ss_wi = ss_wi / df_wi\n",
    "\n",
    "print(\n",
    "    f'Between-groups Degrees of freedom: {df_btw}',\n",
    "    f'\\nWithin groups degrees of freedom: {df_wi}'\n",
    "    f'\\nMean of Sum of squares between the groups: {mean_ss_btw:.4f}',\n",
    "    f'\\nMean of Sum of squares within the group: {mean_ss_wi:.4f}'\n",
    ")"
   ]
  },
  {
   "cell_type": "markdown",
   "metadata": {},
   "source": [
    "Computing F-statistic and p-value"
   ]
  },
  {
   "cell_type": "code",
   "execution_count": 8,
   "metadata": {},
   "outputs": [
    {
     "name": "stdout",
     "output_type": "stream",
     "text": [
      "f-statistic: 4.16\n",
      "p-value: 4.24e-02 \n",
      "Significance level: 5.00e-02\n"
     ]
    }
   ],
   "source": [
    "alpha = 0.05\n",
    "f = mean_ss_btw / mean_ss_wi\n",
    "p = 1 - sc.stats.f.cdf(f, df_btw, df_wi)\n",
    "print(\n",
    "    f'f-statistic: {f:.2f}'\n",
    "    f'\\np-value: {p:.2e}',\n",
    "    f'\\nSignificance level: {alpha:.2e}'\n",
    ")"
   ]
  },
  {
   "cell_type": "code",
   "execution_count": 9,
   "metadata": {},
   "outputs": [
    {
     "data": {
      "text/html": [
       "<div>\n",
       "<style scoped>\n",
       "    .dataframe tbody tr th:only-of-type {\n",
       "        vertical-align: middle;\n",
       "    }\n",
       "\n",
       "    .dataframe tbody tr th {\n",
       "        vertical-align: top;\n",
       "    }\n",
       "\n",
       "    .dataframe thead th {\n",
       "        text-align: right;\n",
       "    }\n",
       "</style>\n",
       "<table border=\"1\" class=\"dataframe\">\n",
       "  <thead>\n",
       "    <tr style=\"text-align: right;\">\n",
       "      <th></th>\n",
       "      <th>Source</th>\n",
       "      <th>SS</th>\n",
       "      <th>df</th>\n",
       "      <th>MSS</th>\n",
       "      <th>F</th>\n",
       "      <th>P</th>\n",
       "    </tr>\n",
       "  </thead>\n",
       "  <tbody>\n",
       "    <tr>\n",
       "      <th>0</th>\n",
       "      <td>BG</td>\n",
       "      <td>6240.0</td>\n",
       "      <td>2</td>\n",
       "      <td>3120.0</td>\n",
       "      <td>4.16</td>\n",
       "      <td>0.042418</td>\n",
       "    </tr>\n",
       "    <tr>\n",
       "      <th>1</th>\n",
       "      <td>WG</td>\n",
       "      <td>9000.0</td>\n",
       "      <td>12</td>\n",
       "      <td>750.0</td>\n",
       "      <td></td>\n",
       "      <td></td>\n",
       "    </tr>\n",
       "    <tr>\n",
       "      <th>2</th>\n",
       "      <td>Total</td>\n",
       "      <td>15240.0</td>\n",
       "      <td>14</td>\n",
       "      <td></td>\n",
       "      <td></td>\n",
       "      <td></td>\n",
       "    </tr>\n",
       "  </tbody>\n",
       "</table>\n",
       "</div>"
      ],
      "text/plain": [
       "  Source       SS  df     MSS     F         P\n",
       "0     BG   6240.0   2  3120.0  4.16  0.042418\n",
       "1     WG   9000.0  12   750.0                \n",
       "2  Total  15240.0  14                        "
      ]
     },
     "execution_count": 9,
     "metadata": {},
     "output_type": "execute_result"
    }
   ],
   "source": [
    "anova_summary = pd.DataFrame({\n",
    "    'Source': ['BG', 'WG', 'Total'],\n",
    "    'SS': [ss_btw, ss_wi, ss_t],\n",
    "    'df': [df_btw, df_wi, df_btw+df_wi],\n",
    "    'MSS': [mean_ss_btw, mean_ss_wi, ''],\n",
    "    'F':[f,'',''],\n",
    "    'P':[p,'','']\n",
    "})\n",
    "anova_summary"
   ]
  },
  {
   "cell_type": "markdown",
   "metadata": {},
   "source": [
    "Since the P-value (0.04) in our experiment is smaller than the significance level (0.05), we reject the null hypothesis that drug dosage had no effect on cholesterol level. And we conclude that the mean cholesterol level in at least one treatment group differed significantly from the mean cholesterol level in another group. "
   ]
  },
  {
   "cell_type": "markdown",
   "metadata": {},
   "source": [
    "#### 1.3. One Way Anova Class"
   ]
  },
  {
   "cell_type": "markdown",
   "metadata": {},
   "source": [
    "| | Sum of Squares | Degrees of freedom | Variance | F |\n",
    "| --- | --- | --- | --- | --- |\n",
    "| Between | $n_j\\sum_{j=1}^{k}(\\bar{x_j} - \\bar{x})^2$ | k -1 | $\\frac{\\text{SSB}}{\\text{df}_{BG}}$ | $\\frac{\\text{MS}_{BG}}{\\text{MS}_{WG}}$ |\n",
    "| Within | $\\sum_{j=1}^{k} \\sum_{i=1}^{n_j} (x_{ij} - \\bar{x_j})^2$ | n - k | $\\frac{\\text{SSW}}{\\text{df}_{WG}}$ | |\n",
    "| Total | $\\sum_{j=1}^{k} \\sum_{i=1}^{n_j} (x_{ij} - \\bar{x})^2$ | n - 1 | | |"
   ]
  },
  {
   "cell_type": "code",
   "execution_count": 10,
   "metadata": {},
   "outputs": [],
   "source": [
    "class OneWayAnova:\n",
    "    def __init__(self, data):\n",
    "        self.data = data\n",
    "        self.n = self.data.shape[0] * self.data.shape[1]\n",
    "        self.p = self.data.shape[1]\n",
    "    \n",
    "        self.group_mean = np.mean(self.data, axis=0)\n",
    "        self.global_mean = np.mean(self.data)\n",
    "        \n",
    "        self.desc_stats = {}\n",
    "        self.test_results = {}\n",
    "        self.anova_results = {'BG': [], 'WG': [], 'Total': []}\n",
    "        \n",
    "    def compute_descriptive_stats(self):\n",
    "        group_median = np.median(self.data, axis=0)\n",
    "        group_range = np.max(self.data,axis=0) - np.min(self.data, axis=0)\n",
    "        group_skew = sc.stats.skew(self.data, axis=0)\n",
    "        group_kurtosis = sc.stats.kurtosis(self.data, axis=0)\n",
    "        for i in range(3):\n",
    "            self.desc_stats.update({\n",
    "                f'Group-{i+1}': [\n",
    "                    self.group_mean[i], \n",
    "                    group_median[i],\n",
    "                    group_range[i],\n",
    "                    group_skew[i],\n",
    "                    group_kurtosis[i]\n",
    "                    ]\n",
    "            })\n",
    "        \n",
    "\n",
    "    def compute_test_results(self):\n",
    "        self.z_sores = (self.data - self.group_mean) / np.std(self.data, 0)\n",
    "        ks_test_results = sc.stats.kstest(self.z_sores, 'norm')\n",
    "        #shapiro_test_reuslts = sc.stats.shapiro(data)\n",
    "        for i in range(3):\n",
    "            self.test_results.update({\n",
    "                f'Group-{i+1}': [\n",
    "                    ks_test_results[0][i],\n",
    "                    ks_test_results[1][i]\n",
    "                    ]\n",
    "            })\n",
    "        \n",
    "    def compute_ddof(self):\n",
    "        self.ddof_w = self.n - self.p\n",
    "        self.ddof_b = self.p  - 1\n",
    "        self.ddof_t = self.n - 1\n",
    "        \n",
    "    def compute_sum_of_squares(self):\n",
    "        ssw = np.sum((self.data - self.group_mean)**2)\n",
    "        ssb = np.sum((self.group_mean - self.global_mean)**2, axis=0) * self.data.shape[0]\n",
    "        sst = np.sum((self.data - self.global_mean)**2)\n",
    "        return ssw, ssb, sst\n",
    "\n",
    "    def compute_mean_sum_of_squares(self, ssw, ssb):\n",
    "        mssw = ssw / self.ddof_w\n",
    "        mssb = ssb / self.ddof_b\n",
    "        return mssw, mssb\n",
    "    \n",
    "    def compute_F_statistic(self, msw, msb):\n",
    "        F_stat = msb / msw\n",
    "        p_val =  1 - sc.stats.f.cdf(F_stat, self.ddof_b, self.ddof_w)\n",
    "        return F_stat, p_val\n",
    "    \n",
    "    def fit(self):\n",
    "        # checking for normality\n",
    "        self.compute_descriptive_stats()\n",
    "        self.compute_test_results()\n",
    "        # anova analysis\n",
    "        self.compute_ddof()\n",
    "        ssw, ssb, sst = self.compute_sum_of_squares()\n",
    "        mssw, mssb = self.compute_mean_sum_of_squares(ssw, ssb)\n",
    "        F_stat, p_val = self.compute_F_statistic(mssw, mssb)\n",
    "        \n",
    "        self.anova_results['WG'].extend([ssw, self.ddof_w, mssw])\n",
    "        self.anova_results['BG'].extend([ssb, self.ddof_b,mssb, F_stat, p_val])        \n",
    "        self.anova_results['Total'].extend([self.ddof_t, sst])\n",
    "        self.print_summary()\n",
    "        \n",
    "        \n",
    "    def print_summary(self):\n",
    "        titles = ['Source', 'Mean', 'Median', 'Range', 'Skew', 'Kurtosis']\n",
    "        self.print_table(self.desc_stats, 'Descriptive Statistics', titles)\n",
    "\n",
    "        titles = ['Source', 'T-Statistic', 'P-value']\n",
    "        self.print_table(self.test_results, 'Kolmogorov-Smrinov Test Results', titles)\n",
    "                \n",
    "        titles = ['Source', 'SS', 'DF', 'MSS', 'F', 'P']\n",
    "        self.print_table(self.anova_results, 'ANOVA Summary', titles)\n",
    "            \n",
    "    def print_table(self, data_dict, main_title, titles):\n",
    "        print(f'\\n{main_title}')\n",
    "        temp = 15*(len(titles)) - 5\n",
    "        print('='*temp)\n",
    "        print(('{:<15}'*len(titles)).format(*titles))\n",
    "        print('='*temp)\n",
    "        for k, v in data_dict.items():\n",
    "            print(('{:<15}'*(len(v)+1)).format(k, *np.round(v, 6)))"
   ]
  },
  {
   "cell_type": "code",
   "execution_count": 11,
   "metadata": {},
   "outputs": [
    {
     "name": "stdout",
     "output_type": "stream",
     "text": [
      "\n",
      "Descriptive Statistics\n",
      "=====================================================================================\n",
      "Source         Mean           Median         Range          Skew           Kurtosis       \n",
      "=====================================================================================\n",
      "Group-1        258.0          270.0          90.0           -0.271545      -1.044379      \n",
      "Group-2        246.0          240.0          60.0           -0.343622      -1.153061      \n",
      "Group-3        210.0          210.0          60.0           0.0            -0.5           \n",
      "\n",
      "Kolmogorov-Smrinov Test Results\n",
      "========================================\n",
      "Source         T-Statistic    P-value        \n",
      "========================================\n",
      "Group-1        0.252557       0.836597       \n",
      "Group-2        0.257475       0.820726       \n",
      "Group-3        0.3            0.664          \n",
      "\n",
      "ANOVA Summary\n",
      "=====================================================================================\n",
      "Source         SS             DF             MSS            F              P              \n",
      "=====================================================================================\n",
      "BG             6240.0         2.0            3120.0         4.16           0.042418       \n",
      "WG             9000.0         12.0           750.0          \n",
      "Total          14.0           15240.0        \n"
     ]
    }
   ],
   "source": [
    "model = OneWayAnova(data)\n",
    "model.fit()"
   ]
  },
  {
   "cell_type": "markdown",
   "metadata": {},
   "source": [
    "Conclusion: Since our p-value (0.042418) is less than significance level (0.05) we can reject null hypothesis. We can conclude drug dosage has effect on cholesterol levels."
   ]
  },
  {
   "cell_type": "markdown",
   "metadata": {},
   "source": [
    "### 2. Two Factor ANOVA"
   ]
  },
  {
   "cell_type": "markdown",
   "metadata": {},
   "source": [
    "#### 2.1. Theory"
   ]
  },
  {
   "cell_type": "markdown",
   "metadata": {},
   "source": [
    "##### 2.1.1. Definition"
   ]
  },
  {
   "cell_type": "markdown",
   "metadata": {},
   "source": [
    "- *Two Factor Anova* also known as *Full factorial Anova* is a statistical technique used to compare the means of two or more groups across two independent variables (or factors).\n",
    "\n",
    "- *Independent Variables or Factors* are variables we are observing and manipulating.\n",
    "\n",
    "- *Dependent Variable* is the variable which we are measuring to see how it is affected by independent variables."
   ]
  },
  {
   "cell_type": "markdown",
   "metadata": {},
   "source": [
    "##### 2.1.2. Goals"
   ]
  },
  {
   "cell_type": "markdown",
   "metadata": {},
   "source": [
    "The goal of two-way ANOVA is to determine:\n",
    "\n",
    "1. **Main effects**: Whether each independent variable has a significant effect on the dependent variable.\n",
    "\n",
    "2. **Interaction effects**: Whether the combination of the two independent variables has a significant effect on the dependent variable that's different from the sum of their individual effects."
   ]
  },
  {
   "cell_type": "markdown",
   "metadata": {},
   "source": [
    "##### 2.1.3. Assumptions"
   ]
  },
  {
   "cell_type": "markdown",
   "metadata": {},
   "source": [
    "For two way Anova following assumptions should be met:\n",
    "1. *Independence of measurement*. \n",
    "2. *Homogeneity of variance*.\n",
    "3. *Normally distributed data*."
   ]
  },
  {
   "cell_type": "markdown",
   "metadata": {},
   "source": [
    "#### 2.2. Step By Step Process"
   ]
  },
  {
   "cell_type": "markdown",
   "metadata": {},
   "source": [
    "##### 2.2.1 Basic Nomencalture"
   ]
  },
  {
   "cell_type": "markdown",
   "metadata": {},
   "source": [
    "1. $n:$ Total Number of samples.\n",
    "\n",
    "2. $p:$ Number of groups in factor A.\n",
    "\n",
    "3. $q:$ Number of groups in factor B.\n",
    "\n",
    "4. $i:$ Index of groups of factor A.\n",
    "\n",
    "5. $j:$ Index of groups of factor B."
   ]
  },
  {
   "cell_type": "markdown",
   "metadata": {},
   "source": [
    "##### 2.2.2. Mean Scores"
   ]
  },
  {
   "cell_type": "markdown",
   "metadata": {},
   "source": [
    "1. **Grand Mean**:  \n",
    "\n",
    "$$ \\bar{x} = \\frac{1}{n} \\sum_{i=1}^p \\sum_{j=1}^q \\sum_{m=1}^n x_{ijm}$$\n",
    "\n",
    "2. **Marginal means of Factor A**:\n",
    "\n",
    "$$ \\bar{x_i} = \\frac{1}{q} \\sum_{j=1}^n \\sum_{m=1}^n x_{ijm}$$\n",
    "\n",
    "3. **Marginal means of Factor B**:\n",
    "\n",
    "$$ \\bar{x_j} = \\frac{1}{p} \\sum_{i=1}^p \\sum_{m=1}^n x_{ijm}$$\n",
    "\n",
    "4. **Groups Means**\n",
    "\n",
    "$$ \\bar{x_{ij}} = \\frac{1}{n} \\sum_{m=1}^n x_{ijm}$$"
   ]
  },
  {
   "cell_type": "markdown",
   "metadata": {},
   "source": [
    "##### 2.2.3. Sum of Squares"
   ]
  },
  {
   "cell_type": "markdown",
   "metadata": {},
   "source": [
    "1. **Factor A sum of squares:**\n",
    "\n",
    "$$ \\text{SSA} = n\\cdot q\\cdot \\sum_{i=1}^p (\\bar{x_i} - \\bar{x})^2$$\n",
    "\n",
    "2. **Factor B sum of squares:**\n",
    "\n",
    "$$ \\text{SSB} = n\\cdot p\\cdot \\sum_{j=1}^q (\\bar{x_j} - \\bar{x})^2$$\n",
    "\n",
    "3. **Interaction sum of squares:**\n",
    "\n",
    "$$ \\text{SSAB} = n\\cdot \\sum_{i=1}^p \\sum_{j=1}^q (\\bar{x_{ij}} - \\bar{x_i} - \\bar{x_j})^2$$\n",
    "\n",
    "4. **Error sum of squares:**\n",
    "\n",
    "$$ \\text{SSE} = \\sum_{i=1}^p \\sum_{j=1}^q \\sum_{m=1}^n  (x_{ijm} - \\bar{x_{ij}})^2$$\n",
    "\n",
    "5. **Total sum of squares:**\n",
    "\n",
    "$$ \\text{SST} = \\sum_{i=1}^p \\sum_{j=1}^q \\sum_{m=1}^n  (x_{ijm} - \\bar{x})^2$$\n",
    "\n",
    "$\\text{SST = SSA + SSB + SSAB + SSW}$\n"
   ]
  },
  {
   "cell_type": "markdown",
   "metadata": {},
   "source": [
    "##### Degrees of Freedom"
   ]
  },
  {
   "cell_type": "markdown",
   "metadata": {},
   "source": [
    "|Sum of Squares| Degrees of Freedom |\n",
    "| --- | --- |\n",
    "| Factor A | p - 1 |\n",
    "| Factor B | q - 1 |\n",
    "| AB interaction | (p-1)(q-1) |\n",
    "| Error | pq(n-1) |\n",
    "| Total | npq - 1 |"
   ]
  },
  {
   "cell_type": "markdown",
   "metadata": {},
   "source": [
    "##### Mean Squares"
   ]
  },
  {
   "cell_type": "markdown",
   "metadata": {},
   "source": [
    "1. **Factor A mean square:**\n",
    "\n",
    "$$ MS_A = \\frac{SSA}{df_A}$$\n",
    "\n",
    "2. **Factor B mean square:**\n",
    "\n",
    "$$ MS_B = \\frac{SSA}{df_B}$$\n",
    "\n",
    "3. **Interaction mean square:**\n",
    "\n",
    "$$ MS_{AB} = \\frac{SSAB}{df_{AB}}$$\n",
    "\n",
    "4. **Error mean square:**:\n",
    "\n",
    "$$ MS_{E} = \\frac{SSE}{df_{E}}$$"
   ]
  },
  {
   "cell_type": "markdown",
   "metadata": {},
   "source": [
    "##### Test Statistic"
   ]
  },
  {
   "cell_type": "markdown",
   "metadata": {},
   "source": [
    "1. **Test statistic of Factor A:**\n",
    "\n",
    "$$F_A = \\frac{MS_A}{MS_E}$$\n",
    "\n",
    "2. **Test statistic of Factor B:**\n",
    "\n",
    "$$F_B = \\frac{MS_B}{MS_E}$$\n",
    "\n",
    "3. **Test statistic of Interaction:**\n",
    "\n",
    "$$F_{AB} = \\frac{MS_{AB}}{MS_E}$$\n",
    "\n",
    "$\\text{P-value = 1 - f.Dist.CDF}(\\text{F statistic}, df_i, df_E)$"
   ]
  },
  {
   "cell_type": "markdown",
   "metadata": {},
   "source": [
    "#### Two Way Anova Class"
   ]
  },
  {
   "cell_type": "markdown",
   "metadata": {},
   "source": [
    "Resource: [DataTab|Two-way Anova](https://datatab.net/tutorial/two-factorial-anova-without-repeated-measures)"
   ]
  },
  {
   "cell_type": "markdown",
   "metadata": {},
   "source": [
    "Summary:\n",
    "\n",
    "| |Sum of Squares| Degrees of Freedom | Variance | F|\n",
    "| --- | --- | --- | --- | --- |\n",
    "| Total | $SS_{tot} = \\sum\\sum\\sum(x_{mij}-\\bar{x})^2$| $df_{tot} = n\\cdot p\\cdot q - 1$ | $\\sigma_{tot}^2 = \\frac{SS_{tot}}{df_{tot}}$ | |\n",
    "| Between | $SS_{btw} = n\\cdot \\sum\\sum(AB_{mij}-\\bar{x})^2$ | $df_{btw} =  p\\cdot q - 1$ | $\\sigma_{btw}^2 = \\frac{SS_{btw}}{df_{btw}}$ | |\n",
    "| Factor A | $SS_{A} = n\\cdot q \\cdot \\sum\\sum(A_{i}-\\bar{x})^2$ | $df_{A} =  p - 1$ | $\\sigma_{A}^2 = \\frac{SS_{A}}{df_{A}}$ | $F_A = \\frac{\\sigma_A^2}{\\sigma_{err}^2}$ |\n",
    "| Factor B | $SS_{B} = n\\cdot p \\cdot \\sum\\sum(B_{i}-\\bar{x})^2$ | $df_{B} =  q - 1$ | $\\sigma_{B}^2 = \\frac{SS_{B}}{df_{B}}$ | $F_B = \\frac{\\sigma_B^2}{\\sigma_{err}^2}$ |\n",
    "| Interaction | $SS_{AB} = SS_{btw} - SS_{A} - SS_{B}$ | $df_{AB} =  (p-1)\\cdot (q - 1)$ | $\\sigma_{AB}^2 = \\frac{SS_{AB}}{df_{AB}}$ | $F_{AB} = \\frac{\\sigma_{AB}^2}{\\sigma_{err}^2}$ |\n",
    "| Error | $SS_{err} = \\sum\\sum\\sum (x_{mij} - AB_{ij})^2$ | $df_{err} =  (n-1)\\cdot p \\cdot q$ | $\\sigma_{err}^2 = \\frac{SS_{err}}{df_{err}}$ | |"
   ]
  },
  {
   "cell_type": "markdown",
   "metadata": {},
   "source": [
    "Consider the affect of two drugs for male and female on their sleeping hours."
   ]
  },
  {
   "cell_type": "code",
   "execution_count": 12,
   "metadata": {},
   "outputs": [
    {
     "data": {
      "text/html": [
       "<div>\n",
       "<style scoped>\n",
       "    .dataframe tbody tr th:only-of-type {\n",
       "        vertical-align: middle;\n",
       "    }\n",
       "\n",
       "    .dataframe tbody tr th {\n",
       "        vertical-align: top;\n",
       "    }\n",
       "\n",
       "    .dataframe thead th {\n",
       "        text-align: right;\n",
       "    }\n",
       "</style>\n",
       "<table border=\"1\" class=\"dataframe\">\n",
       "  <thead>\n",
       "    <tr style=\"text-align: right;\">\n",
       "      <th></th>\n",
       "      <th>Drug A</th>\n",
       "      <th>Drug B</th>\n",
       "      <th>Gender</th>\n",
       "    </tr>\n",
       "  </thead>\n",
       "  <tbody>\n",
       "    <tr>\n",
       "      <th>0</th>\n",
       "      <td>6</td>\n",
       "      <td>4</td>\n",
       "      <td>1</td>\n",
       "    </tr>\n",
       "    <tr>\n",
       "      <th>1</th>\n",
       "      <td>4</td>\n",
       "      <td>5</td>\n",
       "      <td>1</td>\n",
       "    </tr>\n",
       "    <tr>\n",
       "      <th>2</th>\n",
       "      <td>7</td>\n",
       "      <td>6</td>\n",
       "      <td>1</td>\n",
       "    </tr>\n",
       "    <tr>\n",
       "      <th>3</th>\n",
       "      <td>9</td>\n",
       "      <td>7</td>\n",
       "      <td>1</td>\n",
       "    </tr>\n",
       "    <tr>\n",
       "      <th>4</th>\n",
       "      <td>3</td>\n",
       "      <td>5</td>\n",
       "      <td>1</td>\n",
       "    </tr>\n",
       "    <tr>\n",
       "      <th>5</th>\n",
       "      <td>8</td>\n",
       "      <td>3</td>\n",
       "      <td>0</td>\n",
       "    </tr>\n",
       "    <tr>\n",
       "      <th>6</th>\n",
       "      <td>3</td>\n",
       "      <td>5</td>\n",
       "      <td>0</td>\n",
       "    </tr>\n",
       "    <tr>\n",
       "      <th>7</th>\n",
       "      <td>5</td>\n",
       "      <td>9</td>\n",
       "      <td>0</td>\n",
       "    </tr>\n",
       "    <tr>\n",
       "      <th>8</th>\n",
       "      <td>8</td>\n",
       "      <td>2</td>\n",
       "      <td>0</td>\n",
       "    </tr>\n",
       "    <tr>\n",
       "      <th>9</th>\n",
       "      <td>6</td>\n",
       "      <td>3</td>\n",
       "      <td>0</td>\n",
       "    </tr>\n",
       "  </tbody>\n",
       "</table>\n",
       "</div>"
      ],
      "text/plain": [
       "   Drug A  Drug B  Gender\n",
       "0       6       4       1\n",
       "1       4       5       1\n",
       "2       7       6       1\n",
       "3       9       7       1\n",
       "4       3       5       1\n",
       "5       8       3       0\n",
       "6       3       5       0\n",
       "7       5       9       0\n",
       "8       8       2       0\n",
       "9       6       3       0"
      ]
     },
     "execution_count": 12,
     "metadata": {},
     "output_type": "execute_result"
    }
   ],
   "source": [
    "data = np.array([\n",
    "    [6,4,7,9,3,8,3,5,8,6],\n",
    "    [4,5,6,7,5,3,5,9,2,3],\n",
    "    [1,1,1,1,1,0,0,0,0,0]\n",
    "])\n",
    "df = pd.DataFrame(data=data.T, columns=['Drug A', 'Drug B', 'Gender'])\n",
    "data = data[:-1, :]\n",
    "df"
   ]
  },
  {
   "cell_type": "code",
   "execution_count": 13,
   "metadata": {},
   "outputs": [
    {
     "data": {
      "text/plain": [
       "array([[[6, 4, 7, 9, 3],\n",
       "        [4, 5, 6, 7, 5]],\n",
       "\n",
       "       [[8, 3, 5, 8, 6],\n",
       "        [3, 5, 9, 2, 3]]])"
      ]
     },
     "execution_count": 13,
     "metadata": {},
     "output_type": "execute_result"
    }
   ],
   "source": [
    "data = data.T.reshape(2, 5, 2)\n",
    "data = np.transpose(data, (0,2, 1))\n",
    "data"
   ]
  },
  {
   "cell_type": "code",
   "execution_count": 14,
   "metadata": {},
   "outputs": [
    {
     "data": {
      "image/png": "[encoded data removed]",
      "text/plain": [
       "<Figure size 600x400 with 4 Axes>"
      ]
     },
     "metadata": {},
     "output_type": "display_data"
    }
   ],
   "source": [
    "temp = data.reshape(4, 5)\n",
    "idx = np.stack((np.repeat(np.arange(1,3), 2), np.tile(np.arange(1,3), 2)), 0)\n",
    "fig = plt.figure(figsize=(6,4), tight_layout=True)\n",
    "fig.suptitle('Histograms')\n",
    "for i in range(4):\n",
    "    ax = fig.add_subplot(2,2, i+1)\n",
    "    ax.hist(temp[i])\n",
    "\n",
    "    ax.set_xlabel(f'A{idx[0,i]}')\n",
    "    ax.set_ylabel(f'B{idx[1, i]}')"
   ]
  },
  {
   "cell_type": "code",
   "execution_count": 15,
   "metadata": {},
   "outputs": [
    {
     "data": {
      "image/png": "[encoded data removed]",
      "text/plain": [
       "<Figure size 800x600 with 4 Axes>"
      ]
     },
     "metadata": {},
     "output_type": "display_data"
    }
   ],
   "source": [
    "sorted_data = np.sort(temp, axis=1)\n",
    "sorted_data = (sorted_data - np.mean(sorted_data, axis=0))/np.std(sorted_data, axis=0)\n",
    "norm = sc.stats.norm(0,1)\n",
    "\n",
    "fig  = plt.figure(figsize=(8, 6), tight_layout=True)\n",
    "fig.suptitle('QQ plots')\n",
    "for i in range(4):\n",
    "    pt = norm.ppf(np.linspace(0.001, 0.999, sorted_data.shape[1]))\n",
    "    ps = np.percentile(sorted_data[i], np.linspace(0, 100, sorted_data.shape[1]))\n",
    "    ax = fig.add_subplot(2,2,i+1)\n",
    "    ax.plot(pt,pt)\n",
    "    ax.scatter(pt, ps, color='cyan')\n",
    "    ax.set_xlabel(f'A{idx[0,i]}')\n",
    "    ax.set_ylabel(f'B{idx[1, i]}')"
   ]
  },
  {
   "cell_type": "code",
   "execution_count": 16,
   "metadata": {},
   "outputs": [
    {
     "name": "stdout",
     "output_type": "stream",
     "text": [
      "\n",
      "Descriptive Statistics\n",
      "======================================================================\n",
      "               A0B0           A0B1           A1B0           A1B1           \n",
      "======================================================================\n",
      "Mean           5.8            5.4            6.0            4.4            \n",
      "Median         6.0            5.0            6.0            3.0            \n",
      "Range          6              3              5              7              \n",
      "Skew           0.138023       0.271545       -0.351364      1.00388        \n",
      "Kurt           -1.279317      -1.044379      -1.240741      -0.489645      \n",
      "\n",
      "Two way ANOVA\n",
      "=====================================================================================\n",
      "               SS             DF             MSS            F-Statistic    P-value        \n",
      "=====================================================================================\n",
      "Factor A       5.0            1.0            5.0            1.036269       0.323838       \n",
      "Factor B       0.8            1.0            0.8            0.165803       0.689265       \n",
      "Factor AB      1.8            1.0            1.8            0.373057       0.549922       \n",
      "Between        7.6            3.0            2.533333       \n",
      "Error          77.2           16.0           4.825          \n",
      "Total          84.8           19.0           4.463158       \n"
     ]
    }
   ],
   "source": [
    "class ANOVA:\n",
    "    def __init__(self, data):\n",
    "        self.data = data\n",
    "        \n",
    "        self.nt = np.prod(self.data.shape)          # total size of data\n",
    "        self.p = self.data.shape[0]                 # number of group in factor A\n",
    "        self.q = self.data.shape[1]                 # number of group in factor B\n",
    "        self.n = self.data.shape[2]                 # number of values per group\n",
    "        self.anova_data = {\n",
    "            'Factor A': [],\n",
    "            'Factor B': [],\n",
    "            'Factor AB': [],\n",
    "            'Between': [],\n",
    "            'Error': [],\n",
    "            'Total': [],   \n",
    "        }\n",
    "        \n",
    "    def compute_descriptive_stats(self):\n",
    "        median = np.median(self.data,axis=-1).flatten()\n",
    "        range_ = (np.max(self.data, -1) - np.min(self.data, -1)).flatten()\n",
    "        skew = sc.stats.skew(self.data, -1).flatten()\n",
    "        kurt = sc.stats.kurtosis(self.data, -1).flatten()\n",
    "        \n",
    "        self.desc_stats = {\n",
    "            'Mean': self.mean_data['mean_AB'].flatten(),\n",
    "            'Median': median,\n",
    "            'Range': range_,\n",
    "            'Skew':skew,\n",
    "            'Kurt':kurt\n",
    "        }\n",
    "\n",
    "    def compute_means(self):\n",
    "        self.mean_data = {\n",
    "            'mean_AB': np.mean(data, axis=-1),      # mean of indivual groups\n",
    "            'mean_A': np.mean(data, axis=(0,2)),    # mean of factor A\n",
    "            'mean_B': np.mean(data, axis=(1,2)),    # total of factor B\n",
    "            'mean_T': np.mean(data)                 # global mean\n",
    "        }\n",
    "        \n",
    "    def compute_sum_of_squares(self):\n",
    "        ss_tot = np.sum((self.data - self.mean_data['mean_T'])**2)\n",
    "        ss_btw = self.n * np.sum((self.mean_data['mean_AB']- self.mean_data['mean_T'])**2)\n",
    "        ss_a = self.n * self.q * np.sum((self.mean_data['mean_A'] - self.mean_data['mean_T'])**2)\n",
    "        ss_b = self.n * self.p * np.sum((self.mean_data['mean_B'] - self.mean_data['mean_T'])**2)\n",
    "        ss_ab = ss_btw - ss_a - ss_b\n",
    "        ss_err = np.sum((self.data - self.mean_data['mean_AB'].reshape(self.p, self.q, 1))**2)\n",
    "        \n",
    "        ss_data = [ss_a, ss_b, ss_ab, ss_btw, ss_err, ss_tot]\n",
    "        for i, k in zip(ss_data, self.anova_data.keys()):\n",
    "            self.anova_data[k].append(i)\n",
    "\n",
    "        \n",
    "    def compute_ddof(self):\n",
    "        ddof_data = [\n",
    "            self.p - 1, \n",
    "            self.q - 1,\n",
    "            (self.p - 1)*(self.q - 1),\n",
    "            self.p * self.q - 1,\n",
    "            (self.n - 1)*self.p*self.q,\n",
    "            self.n * self.p * self.q - 1\n",
    "        ]\n",
    "        for i, k in zip(ddof_data, self.anova_data.keys()):\n",
    "            self.anova_data[k].append(i)\n",
    "       \n",
    "\n",
    "    def compute_mss(self):\n",
    "        for k, v in self.anova_data.items():\n",
    "            self.anova_data[k].append(v[0]/v[1])\n",
    "    \n",
    "    def compute_test_stats(self):\n",
    "        i = 0\n",
    "        for k, v in self.anova_data.items():\n",
    "            if i < 3:\n",
    "                f = v[-1] / self.anova_data['Error'][-1]\n",
    "                p_val = 1- sc.stats.f.cdf(f, v[1], self.anova_data['Error'][1])\n",
    "                self.anova_data[k].extend([f, p_val])           \n",
    "            i +=1\n",
    "            \n",
    "    def fit(self):\n",
    "        self.compute_means()\n",
    "        self.compute_descriptive_stats()\n",
    "        self.compute_sum_of_squares()\n",
    "        self.compute_ddof()\n",
    "        self.compute_mss()\n",
    "        self.compute_test_stats()\n",
    "        self.print_summary()\n",
    "    \n",
    "    def print_summary(self):\n",
    "        title = ['']\n",
    "        for i in range(self.p):\n",
    "            for j in range(self.q):\n",
    "                title.append(f'A{i}B{j}')\n",
    "        self.print_table(self.desc_stats, 'Descriptive Statistics', title)\n",
    "    \n",
    "        \n",
    "        title = ['', 'SS', 'DF', 'MSS', 'F-Statistic', 'P-value'] \n",
    "        self.print_table(self.anova_data, 'Two way ANOVA', title)\n",
    "        \n",
    "    def print_table(self, data_dict, main_title, title):\n",
    "        print(f'\\n{main_title}')\n",
    "        temp = 15*(len(title)) - 5\n",
    "        print('='*temp)\n",
    "        print(('{:<15}'*len(title)).format(*title))\n",
    "        print('='*temp)\n",
    "        for k, v in data_dict.items():\n",
    "            print(('{:<15}'*(len(v) + 1)).format(k, *np.round(v, 6)))   \n",
    "            \n",
    "model = ANOVA(data)\n",
    "model.fit()\n"
   ]
  },
  {
   "cell_type": "markdown",
   "metadata": {},
   "source": [
    "Conclusion:\n",
    "- On basis of p-value of Factor A and Factor B we cannot reject null hypothesis and claim anything.\n",
    "- Also, based on p-value of factor AB we cannot reject null hyptothesis."
   ]
  }
 ],
 "metadata": {
  "kernelspec": {
   "display_name": "maths",
   "language": "python",
   "name": "python3"
  },
  "language_info": {
   "codemirror_mode": {
    "name": "ipython",
    "version": 3
   },
   "file_extension": ".py",
   "mimetype": "text/x-python",
   "name": "python",
   "nbconvert_exporter": "python",
   "pygments_lexer": "ipython3",
   "version": "3.13.1"
  }
 },
 "nbformat": 4,
 "nbformat_minor": 2
}
